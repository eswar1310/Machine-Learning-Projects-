{
 "cells": [
  {
   "cell_type": "code",
   "execution_count": 1,
   "metadata": {},
   "outputs": [],
   "source": [
    "#import the required liberaries\n",
    "import pandas as pd\n",
    "import numpy as np\n",
    "import matplotlib.pyplot as plt\n",
    "import datetime as dt\n",
    "import seaborn as sns\n",
    "import warnings\n",
    "warnings.simplefilter(action=\"ignore\")"
   ]
  },
  {
   "cell_type": "code",
   "execution_count": 2,
   "metadata": {},
   "outputs": [],
   "source": [
    "data=pd.read_csv(r\"C:\\Users\\eswar.melam\\OneDrive - Qentelli\\Desktop\\Project\\Amazon Sale Report.csv\")"
   ]
  },
  {
   "cell_type": "code",
   "execution_count": 3,
   "metadata": {},
   "outputs": [
    {
     "data": {
      "text/html": [
       "<div>\n",
       "<style scoped>\n",
       "    .dataframe tbody tr th:only-of-type {\n",
       "        vertical-align: middle;\n",
       "    }\n",
       "\n",
       "    .dataframe tbody tr th {\n",
       "        vertical-align: top;\n",
       "    }\n",
       "\n",
       "    .dataframe thead th {\n",
       "        text-align: right;\n",
       "    }\n",
       "</style>\n",
       "<table border=\"1\" class=\"dataframe\">\n",
       "  <thead>\n",
       "    <tr style=\"text-align: right;\">\n",
       "      <th></th>\n",
       "      <th>index</th>\n",
       "      <th>Order ID</th>\n",
       "      <th>Date</th>\n",
       "      <th>Status</th>\n",
       "      <th>Fulfilment</th>\n",
       "      <th>Sales Channel</th>\n",
       "      <th>ship-service-level</th>\n",
       "      <th>Style</th>\n",
       "      <th>SKU</th>\n",
       "      <th>Category</th>\n",
       "      <th>...</th>\n",
       "      <th>currency</th>\n",
       "      <th>Amount</th>\n",
       "      <th>ship-city</th>\n",
       "      <th>ship-state</th>\n",
       "      <th>ship-postal-code</th>\n",
       "      <th>ship-country</th>\n",
       "      <th>promotion-ids</th>\n",
       "      <th>B2B</th>\n",
       "      <th>fulfilled-by</th>\n",
       "      <th>Unnamed: 22</th>\n",
       "    </tr>\n",
       "  </thead>\n",
       "  <tbody>\n",
       "    <tr>\n",
       "      <th>0</th>\n",
       "      <td>0</td>\n",
       "      <td>405-8078784-5731545</td>\n",
       "      <td>04-30-22</td>\n",
       "      <td>Cancelled</td>\n",
       "      <td>Merchant</td>\n",
       "      <td>Amazon.in</td>\n",
       "      <td>Standard</td>\n",
       "      <td>SET389</td>\n",
       "      <td>SET389-KR-NP-S</td>\n",
       "      <td>Set</td>\n",
       "      <td>...</td>\n",
       "      <td>INR</td>\n",
       "      <td>647.62</td>\n",
       "      <td>MUMBAI</td>\n",
       "      <td>MAHARASHTRA</td>\n",
       "      <td>400081.0</td>\n",
       "      <td>IN</td>\n",
       "      <td>NaN</td>\n",
       "      <td>False</td>\n",
       "      <td>Easy Ship</td>\n",
       "      <td>NaN</td>\n",
       "    </tr>\n",
       "    <tr>\n",
       "      <th>1</th>\n",
       "      <td>1</td>\n",
       "      <td>171-9198151-1101146</td>\n",
       "      <td>04-30-22</td>\n",
       "      <td>Shipped - Delivered to Buyer</td>\n",
       "      <td>Merchant</td>\n",
       "      <td>Amazon.in</td>\n",
       "      <td>Standard</td>\n",
       "      <td>JNE3781</td>\n",
       "      <td>JNE3781-KR-XXXL</td>\n",
       "      <td>kurta</td>\n",
       "      <td>...</td>\n",
       "      <td>INR</td>\n",
       "      <td>406.00</td>\n",
       "      <td>BENGALURU</td>\n",
       "      <td>KARNATAKA</td>\n",
       "      <td>560085.0</td>\n",
       "      <td>IN</td>\n",
       "      <td>Amazon PLCC Free-Financing Universal Merchant ...</td>\n",
       "      <td>False</td>\n",
       "      <td>Easy Ship</td>\n",
       "      <td>NaN</td>\n",
       "    </tr>\n",
       "    <tr>\n",
       "      <th>2</th>\n",
       "      <td>2</td>\n",
       "      <td>404-0687676-7273146</td>\n",
       "      <td>04-30-22</td>\n",
       "      <td>Shipped</td>\n",
       "      <td>Amazon</td>\n",
       "      <td>Amazon.in</td>\n",
       "      <td>Expedited</td>\n",
       "      <td>JNE3371</td>\n",
       "      <td>JNE3371-KR-XL</td>\n",
       "      <td>kurta</td>\n",
       "      <td>...</td>\n",
       "      <td>INR</td>\n",
       "      <td>329.00</td>\n",
       "      <td>NAVI MUMBAI</td>\n",
       "      <td>MAHARASHTRA</td>\n",
       "      <td>410210.0</td>\n",
       "      <td>IN</td>\n",
       "      <td>IN Core Free Shipping 2015/04/08 23-48-5-108</td>\n",
       "      <td>True</td>\n",
       "      <td>NaN</td>\n",
       "      <td>NaN</td>\n",
       "    </tr>\n",
       "    <tr>\n",
       "      <th>3</th>\n",
       "      <td>3</td>\n",
       "      <td>403-9615377-8133951</td>\n",
       "      <td>04-30-22</td>\n",
       "      <td>Cancelled</td>\n",
       "      <td>Merchant</td>\n",
       "      <td>Amazon.in</td>\n",
       "      <td>Standard</td>\n",
       "      <td>J0341</td>\n",
       "      <td>J0341-DR-L</td>\n",
       "      <td>Western Dress</td>\n",
       "      <td>...</td>\n",
       "      <td>INR</td>\n",
       "      <td>753.33</td>\n",
       "      <td>PUDUCHERRY</td>\n",
       "      <td>PUDUCHERRY</td>\n",
       "      <td>605008.0</td>\n",
       "      <td>IN</td>\n",
       "      <td>NaN</td>\n",
       "      <td>False</td>\n",
       "      <td>Easy Ship</td>\n",
       "      <td>NaN</td>\n",
       "    </tr>\n",
       "    <tr>\n",
       "      <th>4</th>\n",
       "      <td>4</td>\n",
       "      <td>407-1069790-7240320</td>\n",
       "      <td>04-30-22</td>\n",
       "      <td>Shipped</td>\n",
       "      <td>Amazon</td>\n",
       "      <td>Amazon.in</td>\n",
       "      <td>Expedited</td>\n",
       "      <td>JNE3671</td>\n",
       "      <td>JNE3671-TU-XXXL</td>\n",
       "      <td>Top</td>\n",
       "      <td>...</td>\n",
       "      <td>INR</td>\n",
       "      <td>574.00</td>\n",
       "      <td>CHENNAI</td>\n",
       "      <td>TAMIL NADU</td>\n",
       "      <td>600073.0</td>\n",
       "      <td>IN</td>\n",
       "      <td>NaN</td>\n",
       "      <td>False</td>\n",
       "      <td>NaN</td>\n",
       "      <td>NaN</td>\n",
       "    </tr>\n",
       "  </tbody>\n",
       "</table>\n",
       "<p>5 rows × 24 columns</p>\n",
       "</div>"
      ],
      "text/plain": [
       "   index             Order ID      Date                        Status  \\\n",
       "0      0  405-8078784-5731545  04-30-22                     Cancelled   \n",
       "1      1  171-9198151-1101146  04-30-22  Shipped - Delivered to Buyer   \n",
       "2      2  404-0687676-7273146  04-30-22                       Shipped   \n",
       "3      3  403-9615377-8133951  04-30-22                     Cancelled   \n",
       "4      4  407-1069790-7240320  04-30-22                       Shipped   \n",
       "\n",
       "  Fulfilment Sales Channel  ship-service-level    Style              SKU  \\\n",
       "0   Merchant      Amazon.in           Standard   SET389   SET389-KR-NP-S   \n",
       "1   Merchant      Amazon.in           Standard  JNE3781  JNE3781-KR-XXXL   \n",
       "2     Amazon      Amazon.in          Expedited  JNE3371    JNE3371-KR-XL   \n",
       "3   Merchant      Amazon.in           Standard    J0341       J0341-DR-L   \n",
       "4     Amazon      Amazon.in          Expedited  JNE3671  JNE3671-TU-XXXL   \n",
       "\n",
       "        Category     ...     currency  Amount    ship-city   ship-state  \\\n",
       "0            Set     ...          INR  647.62       MUMBAI  MAHARASHTRA   \n",
       "1          kurta     ...          INR  406.00    BENGALURU    KARNATAKA   \n",
       "2          kurta     ...          INR  329.00  NAVI MUMBAI  MAHARASHTRA   \n",
       "3  Western Dress     ...          INR  753.33   PUDUCHERRY   PUDUCHERRY   \n",
       "4            Top     ...          INR  574.00      CHENNAI   TAMIL NADU   \n",
       "\n",
       "  ship-postal-code  ship-country  \\\n",
       "0         400081.0            IN   \n",
       "1         560085.0            IN   \n",
       "2         410210.0            IN   \n",
       "3         605008.0            IN   \n",
       "4         600073.0            IN   \n",
       "\n",
       "                                       promotion-ids    B2B  fulfilled-by  \\\n",
       "0                                                NaN  False     Easy Ship   \n",
       "1  Amazon PLCC Free-Financing Universal Merchant ...  False     Easy Ship   \n",
       "2       IN Core Free Shipping 2015/04/08 23-48-5-108   True           NaN   \n",
       "3                                                NaN  False     Easy Ship   \n",
       "4                                                NaN  False           NaN   \n",
       "\n",
       "  Unnamed: 22  \n",
       "0         NaN  \n",
       "1         NaN  \n",
       "2         NaN  \n",
       "3         NaN  \n",
       "4         NaN  \n",
       "\n",
       "[5 rows x 24 columns]"
      ]
     },
     "execution_count": 3,
     "metadata": {},
     "output_type": "execute_result"
    }
   ],
   "source": [
    "data.head()"
   ]
  },
  {
   "cell_type": "code",
   "execution_count": 4,
   "metadata": {},
   "outputs": [
    {
     "name": "stdout",
     "output_type": "stream",
     "text": [
      "<class 'pandas.core.frame.DataFrame'>\n",
      "RangeIndex: 128975 entries, 0 to 128974\n",
      "Data columns (total 24 columns):\n",
      "index                 128975 non-null int64\n",
      "Order ID              128975 non-null object\n",
      "Date                  128975 non-null object\n",
      "Status                128975 non-null object\n",
      "Fulfilment            128975 non-null object\n",
      "Sales Channel         128975 non-null object\n",
      "ship-service-level    128975 non-null object\n",
      "Style                 128975 non-null object\n",
      "SKU                   128975 non-null object\n",
      "Category              128975 non-null object\n",
      "Size                  128975 non-null object\n",
      "ASIN                  128975 non-null object\n",
      "Courier Status        122103 non-null object\n",
      "Qty                   128975 non-null int64\n",
      "currency              121180 non-null object\n",
      "Amount                121180 non-null float64\n",
      "ship-city             128942 non-null object\n",
      "ship-state            128942 non-null object\n",
      "ship-postal-code      128942 non-null float64\n",
      "ship-country          128942 non-null object\n",
      "promotion-ids         79822 non-null object\n",
      "B2B                   128975 non-null bool\n",
      "fulfilled-by          39277 non-null object\n",
      "Unnamed: 22           79925 non-null object\n",
      "dtypes: bool(1), float64(2), int64(2), object(19)\n",
      "memory usage: 22.8+ MB\n"
     ]
    }
   ],
   "source": [
    "data.info()"
   ]
  },
  {
   "cell_type": "code",
   "execution_count": 5,
   "metadata": {},
   "outputs": [
    {
     "data": {
      "text/plain": [
       "index                     0\n",
       "Order ID                  0\n",
       "Date                      0\n",
       "Status                    0\n",
       "Fulfilment                0\n",
       "Sales Channel             0\n",
       "ship-service-level        0\n",
       "Style                     0\n",
       "SKU                       0\n",
       "Category                  0\n",
       "Size                      0\n",
       "ASIN                      0\n",
       "Courier Status         6872\n",
       "Qty                       0\n",
       "currency               7795\n",
       "Amount                 7795\n",
       "ship-city                33\n",
       "ship-state               33\n",
       "ship-postal-code         33\n",
       "ship-country             33\n",
       "promotion-ids         49153\n",
       "B2B                       0\n",
       "fulfilled-by          89698\n",
       "Unnamed: 22           49050\n",
       "dtype: int64"
      ]
     },
     "execution_count": 5,
     "metadata": {},
     "output_type": "execute_result"
    }
   ],
   "source": [
    "#Checking the null values\n",
    "data.isna().sum()"
   ]
  },
  {
   "cell_type": "code",
   "execution_count": 6,
   "metadata": {},
   "outputs": [
    {
     "data": {
      "text/plain": [
       "0"
      ]
     },
     "execution_count": 6,
     "metadata": {},
     "output_type": "execute_result"
    }
   ],
   "source": [
    "#Checking for duplicates\n",
    "data.duplicated().sum()\n"
   ]
  },
  {
   "cell_type": "code",
   "execution_count": 7,
   "metadata": {},
   "outputs": [
    {
     "data": {
      "text/plain": [
       "(128975, 24)"
      ]
     },
     "execution_count": 7,
     "metadata": {},
     "output_type": "execute_result"
    }
   ],
   "source": [
    "#Checking the number of rows and columns\n",
    "data.shape"
   ]
  },
  {
   "cell_type": "code",
   "execution_count": 8,
   "metadata": {},
   "outputs": [
    {
     "data": {
      "text/plain": [
       "Index(['index', 'Order ID', 'Date', 'Status', 'Fulfilment', 'Sales Channel ',\n",
       "       'ship-service-level', 'Style', 'SKU', 'Category', 'Size', 'ASIN',\n",
       "       'Courier Status', 'Qty', 'currency', 'Amount', 'ship-city',\n",
       "       'ship-state', 'ship-postal-code', 'ship-country', 'promotion-ids',\n",
       "       'B2B', 'fulfilled-by', 'Unnamed: 22'],\n",
       "      dtype='object')"
      ]
     },
     "execution_count": 8,
     "metadata": {},
     "output_type": "execute_result"
    }
   ],
   "source": [
    "#Checking the column names\n",
    "data.columns\n"
   ]
  },
  {
   "cell_type": "code",
   "execution_count": 9,
   "metadata": {},
   "outputs": [],
   "source": [
    "df=data.copy()"
   ]
  },
  {
   "cell_type": "code",
   "execution_count": 10,
   "metadata": {},
   "outputs": [],
   "source": [
    "#clean the column names\n",
    "col = [element.lower().replace(\" \",\"\").replace(\"-\",\"\") for element in df.columns]\n",
    "df.columns = col\n",
    "    "
   ]
  },
  {
   "cell_type": "code",
   "execution_count": 11,
   "metadata": {},
   "outputs": [],
   "source": [
    "# drop the redundant features for the purpose of this analysis\n",
    "df.drop([\"index\",\"date\",\"fulfilledby\",\"currency\",\"unnamed:22\",\"promotionids\",\"courierstatus\",\"shipcountry\"],\n",
    "        axis =\"columns\", inplace = True)\n"
   ]
  },
  {
   "cell_type": "code",
   "execution_count": 12,
   "metadata": {},
   "outputs": [],
   "source": [
    " # fill value \"unknown\" in rows where location (city and state) is not known \n",
    "df[\"shipstate\"].fillna(\"unknown\", inplace = True)\n",
    "df[\"shipcity\"].fillna(\"unknown\", inplace = True)\n"
   ]
  },
  {
   "cell_type": "code",
   "execution_count": 13,
   "metadata": {},
   "outputs": [],
   "source": [
    "# fill value 0 in rows where postalcode is null\n",
    "df[\"shippostalcode\"].fillna(0, inplace = True)\n",
    "#change dtype of postalcode to int\n",
    "df[\"shippostalcode\"] = df[\"shippostalcode\"].astype(int).astype(object)\n"
   ]
  },
  {
   "cell_type": "code",
   "execution_count": 14,
   "metadata": {},
   "outputs": [
    {
     "data": {
      "text/plain": [
       "array(['MAHARASHTRA', 'KARNATAKA', 'PUDUCHERRY', 'TAMIL NADU',\n",
       "       'UTTAR PRADESH', 'CHANDIGARH', 'TELANGANA', 'ANDHRA PRADESH',\n",
       "       'RAJASTHAN', 'DELHI', 'HARYANA', 'ASSAM', 'JHARKHAND',\n",
       "       'CHHATTISGARH', 'ODISHA', 'KERALA', 'MADHYA PRADESH',\n",
       "       'WEST BENGAL', 'NAGALAND', 'Gujarat', 'UTTARAKHAND', 'BIHAR',\n",
       "       'JAMMU & KASHMIR', 'PUNJAB', 'HIMACHAL PRADESH',\n",
       "       'ARUNACHAL PRADESH', 'MANIPUR', 'Goa', 'MEGHALAYA', 'GOA',\n",
       "       'TRIPURA', 'LADAKH', 'DADRA AND NAGAR', 'SIKKIM', 'Delhi',\n",
       "       'unknown', 'ANDAMAN & NICOBAR ', 'Punjab', 'Rajshthan', 'Manipur',\n",
       "       'rajasthan', 'Odisha', 'NL', 'Bihar', 'MIZORAM', 'punjab',\n",
       "       'New Delhi', 'Rajasthan', 'Punjab/Mohali/Zirakpur', 'Puducherry',\n",
       "       'delhi', 'RJ', 'Chandigarh', 'orissa', 'LAKSHADWEEP', 'goa', 'PB',\n",
       "       'APO', 'Arunachal Pradesh', 'AR', 'Pondicherry', 'Sikkim',\n",
       "       'Arunachal pradesh', 'Nagaland', 'bihar', 'Mizoram', 'rajsthan',\n",
       "       'Orissa', 'Rajsthan', 'Meghalaya'], dtype=object)"
      ]
     },
     "execution_count": 14,
     "metadata": {},
     "output_type": "execute_result"
    }
   ],
   "source": [
    "#Checking the unique names of the state\n",
    "df['shipstate'].unique()"
   ]
  },
  {
   "cell_type": "code",
   "execution_count": 15,
   "metadata": {},
   "outputs": [],
   "source": [
    "#Standardizing the data\n",
    "df.loc[df['shipstate'].isin(['GOA','goa']),'shipstate'] = 'Goa'\n",
    "df.loc[df['shipstate'].isin(['rajsthan','Rajasthan','rajasthan','Rajshthan','Rajsthan','RAJASTHAN', 'RJ']),'shipstate'] = 'Rajasthan'\n",
    "df.loc[df['shipstate'].isin(['Punjab/Mohali/Zirakpur','PB','punjab','PUNJAB']),'shipstate'] = 'Punjab'\n",
    "df.loc[df['shipstate'].isin([ 'AR','Arunachal pradesh','ARUNACHAL PRADESH']),'shipstate'] = 'Arunachal Pradesh'\n",
    "df.loc[df['shipstate'].isin(['NL','NAGALAND']),'shipstate'] = 'Nagaland'\n",
    "df.loc[df['shipstate'].isin(['Puducherry']),'shipstate'] = 'Pondicherry'\n",
    "df.loc[df['shipstate'].isin(['orissa','Odisha','ODISHA']),'shipstate'] = 'Orissa'\n",
    "df.loc[df['shipstate'].isin(['SIKKIM']),'shipstate'] = 'Sikkim'\n",
    "df.loc[df['shipstate'].isin(['bihar']),'shipstate'] = 'Bihar'\n",
    "df.loc[df['shipstate'].isin(['CHANDIGARH']),'shipstate'] = 'Chandigarh'\n",
    "df.loc[df['shipstate'].isin(['delhi','New Delhi','DELHI']),'shipstate'] = 'Delhi'"
   ]
  },
  {
   "cell_type": "code",
   "execution_count": 16,
   "metadata": {},
   "outputs": [],
   "source": [
    "df.drop_duplicates(inplace = True)"
   ]
  },
  {
   "cell_type": "code",
   "execution_count": 17,
   "metadata": {},
   "outputs": [
    {
     "name": "stdout",
     "output_type": "stream",
     "text": [
      "<class 'pandas.core.frame.DataFrame'>\n",
      "Int64Index: 128969 entries, 0 to 128974\n",
      "Data columns (total 16 columns):\n",
      "orderid             128969 non-null object\n",
      "status              128969 non-null object\n",
      "fulfilment          128969 non-null object\n",
      "saleschannel        128969 non-null object\n",
      "shipservicelevel    128969 non-null object\n",
      "style               128969 non-null object\n",
      "sku                 128969 non-null object\n",
      "category            128969 non-null object\n",
      "size                128969 non-null object\n",
      "asin                128969 non-null object\n",
      "qty                 128969 non-null int64\n",
      "amount              121177 non-null float64\n",
      "shipcity            128969 non-null object\n",
      "shipstate           128969 non-null object\n",
      "shippostalcode      128969 non-null object\n",
      "b2b                 128969 non-null bool\n",
      "dtypes: bool(1), float64(1), int64(1), object(13)\n",
      "memory usage: 15.9+ MB\n"
     ]
    }
   ],
   "source": [
    "df.info()"
   ]
  },
  {
   "cell_type": "code",
   "execution_count": 18,
   "metadata": {},
   "outputs": [],
   "source": [
    "# dataframe of repeated orderid(s) - all rows\n",
    "orderid_repeat_rows = df[df[\"orderid\"].duplicated(keep = False)]\n",
    "\n",
    "# count the unique repeated orderid(s)\n",
    "unique_orderid_repeat_count = orderid_repeat_rows[\"orderid\"].nunique()\n",
    "\n",
    "# count the total number of rows in the dataset occupied by repeated orders\n",
    "orderid_repeat_rows_count = len(orderid_repeat_rows)\n",
    "\n",
    "# count the number of rows in the dataset occuppied by nonrepeat_orderids\n",
    "orderid_nonrepeat_rows = df[df[\"orderid\"].duplicated(keep = False) == False]\n",
    "orderid_nonrepeat_rows_count = len(orderid_nonrepeat_rows)\n"
   ]
  },
  {
   "cell_type": "code",
   "execution_count": 19,
   "metadata": {},
   "outputs": [
    {
     "name": "stdout",
     "output_type": "stream",
     "text": [
      "1. Number of unique orderid with multiple products per orderid purchased: 6840\n",
      "2. Total number of rows of these orderid(s) with multiple products: 15431\n",
      "3. Number of unique orderid with single product per orderid purchased: 113538\n"
     ]
    }
   ],
   "source": [
    " print(f\"1. Number of unique orderid with multiple products per orderid purchased: {unique_orderid_repeat_count}\\n\"\n",
    "         f\"2. Total number of rows of these orderid(s) with multiple products: {orderid_repeat_rows_count}\\n\"\n",
    "          f\"3. Number of unique orderid with single product per orderid purchased: {orderid_nonrepeat_rows_count}\"\n",
    "         )"
   ]
  },
  {
   "cell_type": "code",
   "execution_count": 20,
   "metadata": {},
   "outputs": [
    {
     "data": {
      "image/png": "[encoded data removed]",
      "text/plain": [
       "<Figure size 504x360 with 1 Axes>"
      ]
     },
     "metadata": {},
     "output_type": "display_data"
    }
   ],
   "source": [
    "# bar chart using matplotlib package\n",
    "fig,ax = plt.subplots(figsize = (7,5))\n",
    "\n",
    "# calculate and store the proportion values in a pandas.Series\n",
    "orderid_repeat_rows = df[df[\"orderid\"].duplicated(keep = False)]\n",
    "unique_orderid_repeat_list = orderid_repeat_rows[\"orderid\"].unique()\n",
    "plot_dataseries = round(df[\"orderid\"].isin(unique_orderid_repeat_list).\n",
    "                        value_counts(normalize = True)*100,2)\n",
    "\n",
    "# plot the bar chart\n",
    "plot_dataseries.plot(kind = \"bar\",ax =ax)\n",
    "plt.title(\"Proportions of Single-Product \\nand Multipl-Product Orders\", fontsize = 16)\n",
    "plt.ylabel(\"Proportion\", fontsize = 14)\n",
    "plt.xlabel(\"Order Types\", fontsize = 14)\n",
    "plt.show()"
   ]
  },
  {
   "cell_type": "code",
   "execution_count": 21,
   "metadata": {},
   "outputs": [
    {
     "data": {
      "text/plain": [
       "Index(['orderid', 'status', 'fulfilment', 'saleschannel', 'shipservicelevel',\n",
       "       'style', 'sku', 'category', 'size', 'asin', 'qty', 'amount', 'shipcity',\n",
       "       'shipstate', 'shippostalcode', 'b2b'],\n",
       "      dtype='object')"
      ]
     },
     "execution_count": 21,
     "metadata": {},
     "output_type": "execute_result"
    }
   ],
   "source": [
    "df.columns"
   ]
  },
  {
   "cell_type": "code",
   "execution_count": 22,
   "metadata": {},
   "outputs": [
    {
     "name": "stdout",
     "output_type": "stream",
     "text": [
      "<class 'pandas.core.frame.DataFrame'>\n",
      "Int64Index: 113538 entries, 0 to 128974\n",
      "Data columns (total 15 columns):\n",
      "status              113538 non-null object\n",
      "fulfilment          113538 non-null object\n",
      "saleschannel        113538 non-null object\n",
      "shipservicelevel    113538 non-null object\n",
      "style               113538 non-null object\n",
      "sku                 113538 non-null object\n",
      "category            113538 non-null object\n",
      "size                113538 non-null object\n",
      "asin                113538 non-null object\n",
      "qty                 113538 non-null int64\n",
      "amount              106449 non-null float64\n",
      "shipcity            113538 non-null object\n",
      "shipstate           113538 non-null object\n",
      "shippostalcode      113538 non-null object\n",
      "b2b                 113538 non-null bool\n",
      "dtypes: bool(1), float64(1), int64(1), object(12)\n",
      "memory usage: 13.1+ MB\n"
     ]
    }
   ],
   "source": [
    "# drop the orderids with multiple products\n",
    "df = df[df[\"orderid\"].duplicated(keep = False) == False]\n",
    "\n",
    "# drop redundant column \"orderid\"\n",
    "df.drop(\"orderid\", axis = 1, inplace = True)\n",
    "df.info()\n"
   ]
  },
  {
   "cell_type": "code",
   "execution_count": 23,
   "metadata": {},
   "outputs": [
    {
     "data": {
      "text/plain": [
       "array(['Cancelled', 'Shipped - Delivered to Buyer', 'Shipped',\n",
       "       'Shipped - Returned to Seller', 'Shipped - Rejected by Buyer',\n",
       "       'Shipped - Lost in Transit', 'Shipped - Out for Delivery',\n",
       "       'Shipped - Returning to Seller', 'Shipped - Picked Up', 'Pending',\n",
       "       'Pending - Waiting for Pick Up', 'Shipped - Damaged', 'Shipping'],\n",
       "      dtype=object)"
      ]
     },
     "execution_count": 23,
     "metadata": {},
     "output_type": "execute_result"
    }
   ],
   "source": [
    "df[\"status\"].unique()\n"
   ]
  },
  {
   "cell_type": "code",
   "execution_count": 24,
   "metadata": {},
   "outputs": [],
   "source": [
    "# drop the rows with unsure rejection status\n",
    "known_value = [\"Cancelled\", 'Shipped - Returned to Seller','Shipped - Rejected by Buyer',\n",
    "            'Shipped - Returning to Seller','Shipped - Delivered to Buyer']\n",
    "df = df[df[\"status\"].isin(known_value)]   \n",
    "\n",
    "# create a col \"rejected\" where value 1 means rejected and 0 means not-rejected\" \n",
    "rejected = [\"Cancelled\", 'Shipped - Returned to Seller','Shipped - Rejected by Buyer',\n",
    "            'Shipped - Returning to Seller']\n",
    "df[\"rejected\"] = df[\"status\"].isin(rejected).astype(int)    # change the dtype to \"int\" \n",
    "\n",
    "# drop col \"status\" \n",
    "df.drop(\"status\",axis = \"columns\", inplace = True)\n"
   ]
  },
  {
   "cell_type": "code",
   "execution_count": 25,
   "metadata": {},
   "outputs": [
    {
     "data": {
      "image/png": "[encoded data removed]",
      "text/plain": [
       "<Figure size 504x360 with 1 Axes>"
      ]
     },
     "metadata": {},
     "output_type": "display_data"
    }
   ],
   "source": [
    "# bar chart using matplotlib package\n",
    "fig,ax = plt.subplots(figsize = (7,5))\n",
    "\n",
    "# calculate and store the proportion values in a pandas.Series\n",
    "plot_dataseries = round(df[\"rejected\"].value_counts(normalize = True)*100,2)\n",
    "\n",
    "# plot the bar chart\n",
    "plot_dataseries.plot(kind = \"bar\",ax =ax)\n",
    "plt.title(\"Proportions of rejected and not-rejected orders\", fontsize = 14)\n",
    "plt.ylabel(\"Proportion\", fontsize = 12)\n",
    "plt.xlabel(\"Status\", fontsize = 12)    \n",
    "plt.show()\n"
   ]
  },
  {
   "cell_type": "code",
   "execution_count": 26,
   "metadata": {},
   "outputs": [
    {
     "data": {
      "text/plain": [
       "fulfilment             2\n",
       "saleschannel           2\n",
       "shipservicelevel       2\n",
       "style               1148\n",
       "sku                 5291\n",
       "category               8\n",
       "size                  11\n",
       "asin                5290\n",
       "shipcity            5293\n",
       "shipstate             41\n",
       "shippostalcode      6852\n",
       "dtype: int64"
      ]
     },
     "execution_count": 26,
     "metadata": {},
     "output_type": "execute_result"
    }
   ],
   "source": [
    "df.select_dtypes(include = \"object\").nunique()\n"
   ]
  },
  {
   "cell_type": "code",
   "execution_count": 27,
   "metadata": {},
   "outputs": [],
   "source": [
    "df.drop([\"style\",\"sku\",\"shipcity\",\"shippostalcode\",\"asin\"],axis = 1, inplace = True)\n"
   ]
  },
  {
   "cell_type": "code",
   "execution_count": 28,
   "metadata": {},
   "outputs": [
    {
     "data": {
      "text/html": [
       "<div>\n",
       "<style scoped>\n",
       "    .dataframe tbody tr th:only-of-type {\n",
       "        vertical-align: middle;\n",
       "    }\n",
       "\n",
       "    .dataframe tbody tr th {\n",
       "        vertical-align: top;\n",
       "    }\n",
       "\n",
       "    .dataframe thead th {\n",
       "        text-align: right;\n",
       "    }\n",
       "</style>\n",
       "<table border=\"1\" class=\"dataframe\">\n",
       "  <thead>\n",
       "    <tr style=\"text-align: right;\">\n",
       "      <th></th>\n",
       "      <th>Proportion(%)</th>\n",
       "      <th>Count</th>\n",
       "    </tr>\n",
       "    <tr>\n",
       "      <th>qty_value</th>\n",
       "      <th></th>\n",
       "      <th></th>\n",
       "    </tr>\n",
       "  </thead>\n",
       "  <tbody>\n",
       "    <tr>\n",
       "      <th>0</th>\n",
       "      <td>26.46%</td>\n",
       "      <td>11379</td>\n",
       "    </tr>\n",
       "    <tr>\n",
       "      <th>1</th>\n",
       "      <td>73.3%</td>\n",
       "      <td>31518</td>\n",
       "    </tr>\n",
       "    <tr>\n",
       "      <th>2</th>\n",
       "      <td>0.21%</td>\n",
       "      <td>90</td>\n",
       "    </tr>\n",
       "    <tr>\n",
       "      <th>3</th>\n",
       "      <td>0.02%</td>\n",
       "      <td>8</td>\n",
       "    </tr>\n",
       "    <tr>\n",
       "      <th>4</th>\n",
       "      <td>0.01%</td>\n",
       "      <td>3</td>\n",
       "    </tr>\n",
       "    <tr>\n",
       "      <th>5</th>\n",
       "      <td>0.0%</td>\n",
       "      <td>2</td>\n",
       "    </tr>\n",
       "  </tbody>\n",
       "</table>\n",
       "</div>"
      ],
      "text/plain": [
       "          Proportion(%)  Count\n",
       "qty_value                     \n",
       "0                26.46%  11379\n",
       "1                 73.3%  31518\n",
       "2                 0.21%     90\n",
       "3                 0.02%      8\n",
       "4                 0.01%      3\n",
       "5                  0.0%      2"
      ]
     },
     "execution_count": 28,
     "metadata": {},
     "output_type": "execute_result"
    }
   ],
   "source": [
    "# create a pandas dataframe calculating the \n",
    "# porportion (and number of occurence) of the \"qty\" values\n",
    "\n",
    "# calculate the respective \"proportions\" of values in \"qty\" \n",
    "qty_prop = round(df[\"qty\"].value_counts(normalize = True)*100,2)\n",
    "\n",
    "#  rename series with \"Proportion(%)\", sort by index and change to dateframe\n",
    "qty_prop = qty_prop.rename(\"Proportion(%)\").sort_index().to_frame()\n",
    "\n",
    "# rename index.name with \"qty_value\" and \n",
    "qty_prop.index.name = \"qty_value\"\n",
    "\n",
    "# add col \"count\"\n",
    "qty_prop[\"Count\"] = df[\"qty\"].value_counts()\n",
    "\n",
    "# change dtype of \"Proportion(%)\" column and concat string \"%\"\n",
    "qty_prop[\"Proportion(%)\"] = (\n",
    "    qty_prop[\"Proportion(%)\"].astype(str)\n",
    "    .str.cat(np.full(fill_value = \"%\",shape = (len(qty_prop),)))\n",
    ")\n",
    "\n",
    "qty_prop\n"
   ]
  },
  {
   "cell_type": "code",
   "execution_count": 29,
   "metadata": {},
   "outputs": [
    {
     "data": {
      "image/png": "[encoded data removed]",
      "text/plain": [
       "<Figure size 720x360 with 1 Axes>"
      ]
     },
     "metadata": {},
     "output_type": "display_data"
    }
   ],
   "source": [
    "# Plot distribution of Quantity per order\n",
    "# Plot a figure to represent data of the above table(dataframe)\n",
    "fig, ax = plt.subplots(figsize = (10,5))\n",
    "qty_prop.plot(kind = \"bar\",y = \"Count\",ax = ax)\n",
    "plt.xlabel(\"Qty per order\", fontsize = 13)\n",
    "plt.ylabel(\"Frequency [Count]\",fontsize = 13)\n",
    "plt.title('Distribution of the column \"qty\"', fontsize = 14,fontweight = 550)\n",
    "for x,y in enumerate(qty_prop[\"Count\"]):\n",
    "    qty_value = qty_prop.index[x]\n",
    "    plt.text(x,y+1500,qty_prop[\"Proportion(%)\"].loc[qty_value],\n",
    "            horizontalalignment = \"center\",fontweight = 700)\n",
    "        \n",
    "plt.text(0,22000,'\\n This is\\n assumed to\\n be \"NaN\" as\\n  Qty per order\\n  cannot be \\n \"0\"\\n↓',\n",
    "         horizontalalignment = \"center\",color = \"darkred\", fontsize = 13)\n",
    "plt.show()\n"
   ]
  },
  {
   "cell_type": "code",
   "execution_count": 30,
   "metadata": {},
   "outputs": [
    {
     "name": "stdout",
     "output_type": "stream",
     "text": [
      "<class 'pandas.core.frame.DataFrame'>\n",
      "Int64Index: 43000 entries, 0 to 128969\n",
      "Data columns (total 9 columns):\n",
      "fulfilment          43000 non-null object\n",
      "saleschannel        43000 non-null object\n",
      "shipservicelevel    43000 non-null object\n",
      "category            43000 non-null object\n",
      "size                43000 non-null object\n",
      "amount              36034 non-null float64\n",
      "shipstate           43000 non-null object\n",
      "b2b                 43000 non-null bool\n",
      "rejected            43000 non-null int32\n",
      "dtypes: bool(1), float64(1), int32(1), object(6)\n",
      "memory usage: 2.8+ MB\n"
     ]
    }
   ],
   "source": [
    "# drop feature \"qty\"\n",
    "df.drop(\"qty\", axis = \"columns\", inplace = True)\n",
    "df.info()\n"
   ]
  },
  {
   "cell_type": "code",
   "execution_count": 31,
   "metadata": {},
   "outputs": [
    {
     "data": {
      "text/plain": [
       "'The number of datapoints/orderids/rows) having amount value as 0 is:   769'"
      ]
     },
     "execution_count": 31,
     "metadata": {},
     "output_type": "execute_result"
    }
   ],
   "source": [
    "amount0 = len(df[df[\"amount\"] == 0])\n",
    "f\"The number of datapoints/orderids/rows) having amount value as 0 is:   {amount0}\"\n"
   ]
  },
  {
   "cell_type": "code",
   "execution_count": 32,
   "metadata": {},
   "outputs": [
    {
     "name": "stdout",
     "output_type": "stream",
     "text": [
      "<class 'pandas.core.frame.DataFrame'>\n",
      "Int64Index: 43000 entries, 0 to 128969\n",
      "Data columns (total 9 columns):\n",
      "fulfilment          43000 non-null object\n",
      "saleschannel        43000 non-null object\n",
      "shipservicelevel    43000 non-null object\n",
      "category            43000 non-null object\n",
      "size                43000 non-null object\n",
      "amount              35265 non-null float64\n",
      "shipstate           43000 non-null object\n",
      "b2b                 43000 non-null bool\n",
      "rejected            43000 non-null int32\n",
      "dtypes: bool(1), float64(1), int32(1), object(6)\n",
      "memory usage: 2.8+ MB\n"
     ]
    }
   ],
   "source": [
    "df[\"amount\"] = df[\"amount\"].replace(0,np.nan)\n",
    "df.info()\n"
   ]
  },
  {
   "cell_type": "code",
   "execution_count": 33,
   "metadata": {},
   "outputs": [
    {
     "data": {
      "text/plain": [
       "18520"
      ]
     },
     "execution_count": 33,
     "metadata": {},
     "output_type": "execute_result"
    }
   ],
   "source": [
    "df\n",
    "df.duplicated().sum()"
   ]
  },
  {
   "cell_type": "code",
   "execution_count": 34,
   "metadata": {},
   "outputs": [
    {
     "data": {
      "text/plain": [
       "fulfilment             0\n",
       "saleschannel           0\n",
       "shipservicelevel       0\n",
       "category               0\n",
       "size                   0\n",
       "amount              7735\n",
       "shipstate              0\n",
       "b2b                    0\n",
       "rejected               0\n",
       "dtype: int64"
      ]
     },
     "execution_count": 34,
     "metadata": {},
     "output_type": "execute_result"
    }
   ],
   "source": [
    "df.isnull().sum()"
   ]
  },
  {
   "cell_type": "code",
   "execution_count": 35,
   "metadata": {},
   "outputs": [
    {
     "data": {
      "text/html": [
       "<div>\n",
       "<style scoped>\n",
       "    .dataframe tbody tr th:only-of-type {\n",
       "        vertical-align: middle;\n",
       "    }\n",
       "\n",
       "    .dataframe tbody tr th {\n",
       "        vertical-align: top;\n",
       "    }\n",
       "\n",
       "    .dataframe thead th {\n",
       "        text-align: right;\n",
       "    }\n",
       "</style>\n",
       "<table border=\"1\" class=\"dataframe\">\n",
       "  <thead>\n",
       "    <tr style=\"text-align: right;\">\n",
       "      <th></th>\n",
       "      <th>fulfilment</th>\n",
       "      <th>saleschannel</th>\n",
       "      <th>shipservicelevel</th>\n",
       "      <th>category</th>\n",
       "      <th>size</th>\n",
       "      <th>amount</th>\n",
       "      <th>shipstate</th>\n",
       "      <th>b2b</th>\n",
       "      <th>rejected</th>\n",
       "    </tr>\n",
       "  </thead>\n",
       "  <tbody>\n",
       "    <tr>\n",
       "      <th>0</th>\n",
       "      <td>Merchant</td>\n",
       "      <td>Amazon.in</td>\n",
       "      <td>Standard</td>\n",
       "      <td>Set</td>\n",
       "      <td>S</td>\n",
       "      <td>647.62</td>\n",
       "      <td>MAHARASHTRA</td>\n",
       "      <td>False</td>\n",
       "      <td>1</td>\n",
       "    </tr>\n",
       "    <tr>\n",
       "      <th>1</th>\n",
       "      <td>Merchant</td>\n",
       "      <td>Amazon.in</td>\n",
       "      <td>Standard</td>\n",
       "      <td>kurta</td>\n",
       "      <td>3XL</td>\n",
       "      <td>406.00</td>\n",
       "      <td>KARNATAKA</td>\n",
       "      <td>False</td>\n",
       "      <td>0</td>\n",
       "    </tr>\n",
       "  </tbody>\n",
       "</table>\n",
       "</div>"
      ],
      "text/plain": [
       "  fulfilment saleschannel shipservicelevel category size  amount    shipstate  \\\n",
       "0   Merchant    Amazon.in         Standard      Set    S  647.62  MAHARASHTRA   \n",
       "1   Merchant    Amazon.in         Standard    kurta  3XL  406.00    KARNATAKA   \n",
       "\n",
       "     b2b  rejected  \n",
       "0  False         1  \n",
       "1  False         0  "
      ]
     },
     "execution_count": 35,
     "metadata": {},
     "output_type": "execute_result"
    }
   ],
   "source": [
    "df.head(2)"
   ]
  },
  {
   "cell_type": "code",
   "execution_count": 36,
   "metadata": {},
   "outputs": [],
   "source": [
    "mean_value = df['amount'].mean()\n",
    "df['amount'].fillna(value=mean_value, inplace=True)\n"
   ]
  },
  {
   "cell_type": "code",
   "execution_count": 37,
   "metadata": {},
   "outputs": [
    {
     "data": {
      "image/png": "[encoded data removed]",
      "text/plain": [
       "<Figure size 432x288 with 1 Axes>"
      ]
     },
     "metadata": {},
     "output_type": "display_data"
    }
   ],
   "source": [
    "sns.boxplot(x=df['amount'])\n",
    "plt.show()"
   ]
  },
  {
   "cell_type": "code",
   "execution_count": 38,
   "metadata": {},
   "outputs": [],
   "source": [
    "# Z-score method\n",
    "from scipy import stats\n",
    "\n",
    "z_scores = stats.zscore(df['amount'])\n",
    "threshold = 3  # Adjust the threshold based on your data\n",
    "outliers = (abs(z_scores) > threshold)\n",
    "\n",
    "# IQR method\n",
    "Q1 = df['amount'].quantile(0.25)\n",
    "Q3 = df['amount'].quantile(0.75)\n",
    "IQR = Q3 - Q1\n",
    "outliers = ((df['amount'] < (Q1 - 1.5 * IQR)) | (df['amount'] > (Q3 + 1.5 * IQR)))\n"
   ]
  },
  {
   "cell_type": "code",
   "execution_count": 39,
   "metadata": {},
   "outputs": [],
   "source": [
    "# Remove outliers\n",
    "df_no_outliers = df[~outliers]\n",
    "\n",
    "# Impute outliers (replace with a suitable value)\n",
    "replacement_value = df['amount'].median()\n",
    "df['amount'][outliers] = replacement_value\n"
   ]
  },
  {
   "cell_type": "code",
   "execution_count": 40,
   "metadata": {},
   "outputs": [],
   "source": [
    "# transformation\n",
    "df['amount'] = np.log1p(df['amount'])\n"
   ]
  },
  {
   "cell_type": "code",
   "execution_count": 41,
   "metadata": {},
   "outputs": [
    {
     "data": {
      "image/png": "[encoded data removed]",
      "text/plain": [
       "<Figure size 432x288 with 1 Axes>"
      ]
     },
     "metadata": {},
     "output_type": "display_data"
    }
   ],
   "source": [
    "sns.boxplot(x=df['amount'])\n",
    "plt.show()"
   ]
  },
  {
   "cell_type": "code",
   "execution_count": 42,
   "metadata": {},
   "outputs": [
    {
     "data": {
      "text/plain": [
       "<matplotlib.axes._subplots.AxesSubplot at 0x1c9a078a780>"
      ]
     },
     "execution_count": 42,
     "metadata": {},
     "output_type": "execute_result"
    },
    {
     "data": {
      "image/png": "[encoded data removed]",
      "text/plain": [
       "<Figure size 1008x576 with 2 Axes>"
      ]
     },
     "metadata": {},
     "output_type": "display_data"
    }
   ],
   "source": [
    "plt.figure(figsize=(14,8))\n",
    "sns.heatmap(df.corr(),annot=True)"
   ]
  },
  {
   "cell_type": "code",
   "execution_count": 43,
   "metadata": {},
   "outputs": [
    {
     "data": {
      "image/png": "[encoded data removed]",
      "text/plain": [
       "<Figure size 576x360 with 1 Axes>"
      ]
     },
     "metadata": {},
     "output_type": "display_data"
    }
   ],
   "source": [
    "fig,ax = plt.subplots(figsize = (8,5))\n",
    "df_cat = df[\"category\"].value_counts().to_frame()\n",
    "df_cat[\"proportion\"] = round(df[\"category\"].value_counts(normalize = True)*100,2)\n",
    "df_cat[\"proportion_label\"] = df_cat[\"proportion\"].astype(str).str.cat(np.full((len(df_cat),),\"%\"))\n",
    "df_cat = (df_cat.reset_index()\n",
    "          .rename(columns = {\"category\":\"count\",\"index\":\"category_type\"}))\n",
    "\n",
    "df_cat.plot(\n",
    "    kind = \"bar\", x = \"category_type\",y = \"proportion\",\n",
    "    legend = \"\", ax = ax\n",
    ")\n",
    "plt.xlabel(\"Categoty Type\")\n",
    "plt.ylabel(\"Proportion\")\n",
    "plt.title('\"Distribution of feature \"category\"', fontsize = 14)\n",
    "for x,y in enumerate(df_cat[\"count\"]):\n",
    "    plt.text(x,1+df_cat[\"proportion\"][x],y,\n",
    "             fontsize = 10, horizontalalignment = \"center\")\n",
    "plt.show()"
   ]
  },
  {
   "cell_type": "code",
   "execution_count": 44,
   "metadata": {},
   "outputs": [],
   "source": [
    "# change the data type of feature \"b2b\" to object\n",
    "df[\"b2b\"] = df[\"b2b\"].astype(object)\n"
   ]
  },
  {
   "cell_type": "code",
   "execution_count": 45,
   "metadata": {},
   "outputs": [
    {
     "data": {
      "image/png": "[encoded data removed]",
      "text/plain": [
       "<Figure size 504x720 with 1 Axes>"
      ]
     },
     "metadata": {},
     "output_type": "display_data"
    }
   ],
   "source": [
    "#create a dataframe to check the proportion of unique value types (shipstate_type)\n",
    "df_cat = df[\"shipstate\"].value_counts().to_frame()\n",
    "df_cat[\"proportion\"] = round(df[\"shipstate\"].value_counts(normalize = True)*100,2)\n",
    "df_cat[\"proportion_str\"] = df_cat[\"proportion\"].astype(str).str.cat(np.full((len(df_cat),),\"%\"))\n",
    "df_cat = (df_cat.reset_index()\n",
    "          .rename(columns = {\"shipstate\":\"count\",\"index\":\"shipstate_type\"}))\n",
    "\n",
    "df_cat = df_cat.sort_values(by = \"proportion\").reset_index(drop = True)\n",
    "fig,ax = plt.subplots(figsize = (7,10))\n",
    "\n",
    "df_cat.plot(\n",
    "    kind = \"barh\", x = \"shipstate_type\",y = \"proportion\",\n",
    "    legend = \"\", ax = ax\n",
    ")\n",
    "plt.ylabel(\"Ship-State\")\n",
    "plt.xlabel(\"Proportion\")\n",
    "plt.title('\"Distribution of feature \"shipstate\"', fontsize = 14)\n",
    "for x,y in enumerate(df_cat[\"count\"]):\n",
    "    plt.text((df_cat[\"proportion\"][x]),x,y,\n",
    "             fontsize = 10, verticalalignment = \"center\")\n",
    "plt.show()\n"
   ]
  },
  {
   "cell_type": "code",
   "execution_count": 46,
   "metadata": {},
   "outputs": [
    {
     "data": {
      "text/html": [
       "<div>\n",
       "<style scoped>\n",
       "    .dataframe tbody tr th:only-of-type {\n",
       "        vertical-align: middle;\n",
       "    }\n",
       "\n",
       "    .dataframe tbody tr th {\n",
       "        vertical-align: top;\n",
       "    }\n",
       "\n",
       "    .dataframe thead th {\n",
       "        text-align: right;\n",
       "    }\n",
       "</style>\n",
       "<table border=\"1\" class=\"dataframe\">\n",
       "  <thead>\n",
       "    <tr style=\"text-align: right;\">\n",
       "      <th></th>\n",
       "      <th>fulfilment</th>\n",
       "      <th>saleschannel</th>\n",
       "      <th>shipservicelevel</th>\n",
       "      <th>category</th>\n",
       "      <th>size</th>\n",
       "      <th>amount</th>\n",
       "      <th>shipstate</th>\n",
       "      <th>b2b</th>\n",
       "      <th>rejected</th>\n",
       "    </tr>\n",
       "  </thead>\n",
       "  <tbody>\n",
       "    <tr>\n",
       "      <th>0</th>\n",
       "      <td>Merchant</td>\n",
       "      <td>Amazon.in</td>\n",
       "      <td>Standard</td>\n",
       "      <td>Set</td>\n",
       "      <td>S</td>\n",
       "      <td>6.474847</td>\n",
       "      <td>MAHARASHTRA</td>\n",
       "      <td>False</td>\n",
       "      <td>1</td>\n",
       "    </tr>\n",
       "    <tr>\n",
       "      <th>1</th>\n",
       "      <td>Merchant</td>\n",
       "      <td>Amazon.in</td>\n",
       "      <td>Standard</td>\n",
       "      <td>kurta</td>\n",
       "      <td>3XL</td>\n",
       "      <td>6.008813</td>\n",
       "      <td>KARNATAKA</td>\n",
       "      <td>False</td>\n",
       "      <td>0</td>\n",
       "    </tr>\n",
       "    <tr>\n",
       "      <th>3</th>\n",
       "      <td>Merchant</td>\n",
       "      <td>Amazon.in</td>\n",
       "      <td>Standard</td>\n",
       "      <td>Western Dress</td>\n",
       "      <td>L</td>\n",
       "      <td>6.625830</td>\n",
       "      <td>PUDUCHERRY</td>\n",
       "      <td>False</td>\n",
       "      <td>1</td>\n",
       "    </tr>\n",
       "    <tr>\n",
       "      <th>7</th>\n",
       "      <td>Merchant</td>\n",
       "      <td>Amazon.in</td>\n",
       "      <td>Standard</td>\n",
       "      <td>kurta</td>\n",
       "      <td>S</td>\n",
       "      <td>5.991465</td>\n",
       "      <td>TELANGANA</td>\n",
       "      <td>False</td>\n",
       "      <td>0</td>\n",
       "    </tr>\n",
       "    <tr>\n",
       "      <th>8</th>\n",
       "      <td>Amazon</td>\n",
       "      <td>Amazon.in</td>\n",
       "      <td>Expedited</td>\n",
       "      <td>Set</td>\n",
       "      <td>3XL</td>\n",
       "      <td>6.501493</td>\n",
       "      <td>TELANGANA</td>\n",
       "      <td>False</td>\n",
       "      <td>1</td>\n",
       "    </tr>\n",
       "  </tbody>\n",
       "</table>\n",
       "</div>"
      ],
      "text/plain": [
       "  fulfilment saleschannel shipservicelevel       category size    amount  \\\n",
       "0   Merchant    Amazon.in         Standard            Set    S  6.474847   \n",
       "1   Merchant    Amazon.in         Standard          kurta  3XL  6.008813   \n",
       "3   Merchant    Amazon.in         Standard  Western Dress    L  6.625830   \n",
       "7   Merchant    Amazon.in         Standard          kurta    S  5.991465   \n",
       "8     Amazon    Amazon.in        Expedited            Set  3XL  6.501493   \n",
       "\n",
       "     shipstate    b2b  rejected  \n",
       "0  MAHARASHTRA  False         1  \n",
       "1    KARNATAKA  False         0  \n",
       "3   PUDUCHERRY  False         1  \n",
       "7    TELANGANA  False         0  \n",
       "8    TELANGANA  False         1  "
      ]
     },
     "execution_count": 46,
     "metadata": {},
     "output_type": "execute_result"
    }
   ],
   "source": [
    "df.head()"
   ]
  },
  {
   "cell_type": "code",
   "execution_count": 47,
   "metadata": {},
   "outputs": [
    {
     "data": {
      "text/plain": [
       "fulfilment           2\n",
       "saleschannel         2\n",
       "shipservicelevel     2\n",
       "category             8\n",
       "size                11\n",
       "shipstate           41\n",
       "b2b                  2\n",
       "dtype: int64"
      ]
     },
     "execution_count": 47,
     "metadata": {},
     "output_type": "execute_result"
    }
   ],
   "source": [
    "df.select_dtypes(include = \"object\").nunique()\n"
   ]
  },
  {
   "cell_type": "code",
   "execution_count": 48,
   "metadata": {},
   "outputs": [
    {
     "name": "stdout",
     "output_type": "stream",
     "text": [
      "Missing Values:\n",
      "fulfilment          0\n",
      "saleschannel        0\n",
      "shipservicelevel    0\n",
      "category            0\n",
      "size                0\n",
      "amount              0\n",
      "shipstate           0\n",
      "b2b                 0\n",
      "rejected            0\n",
      "dtype: int64\n"
     ]
    }
   ],
   "source": [
    "# Check for missing values\n",
    "missing_values = df.isnull().sum()\n",
    "print(\"Missing Values:\")\n",
    "print(missing_values)\n",
    "\n",
    "# Handle missing values (e.g., drop or impute)\n",
    "df = df.dropna()\n"
   ]
  },
  {
   "cell_type": "code",
   "execution_count": 49,
   "metadata": {},
   "outputs": [
    {
     "name": "stdout",
     "output_type": "stream",
     "text": [
      "Duplicate Rows:\n",
      "       fulfilment saleschannel shipservicelevel       category  size  \\\n",
      "330        Amazon    Amazon.in        Expedited          kurta     M   \n",
      "331        Amazon    Amazon.in        Expedited            Set   XXL   \n",
      "344        Amazon    Amazon.in        Expedited            Set   XXL   \n",
      "383      Merchant    Amazon.in         Standard          kurta     S   \n",
      "495      Merchant    Amazon.in         Standard            Set   3XL   \n",
      "509        Amazon    Amazon.in        Expedited          kurta    XL   \n",
      "521        Amazon    Amazon.in        Expedited          kurta   XXL   \n",
      "602        Amazon    Amazon.in        Expedited            Set   3XL   \n",
      "675        Amazon    Amazon.in        Expedited            Set   XXL   \n",
      "711        Amazon    Amazon.in        Expedited          kurta     M   \n",
      "738      Merchant    Amazon.in         Standard          kurta     S   \n",
      "834        Amazon    Amazon.in        Expedited          kurta    XL   \n",
      "938      Merchant    Amazon.in         Standard          kurta   6XL   \n",
      "960        Amazon    Amazon.in        Expedited          kurta    XL   \n",
      "1012       Amazon    Amazon.in        Expedited          kurta    XL   \n",
      "1018       Amazon    Amazon.in        Expedited            Set   3XL   \n",
      "1034     Merchant    Amazon.in         Standard  Western Dress    XL   \n",
      "1050       Amazon    Amazon.in        Expedited            Set   3XL   \n",
      "1108     Merchant    Amazon.in         Standard          kurta    XL   \n",
      "1110     Merchant    Amazon.in         Standard            Set    XS   \n",
      "1117       Amazon    Amazon.in        Expedited            Set    XS   \n",
      "1175     Merchant    Amazon.in         Standard            Top   XXL   \n",
      "1234       Amazon    Amazon.in        Expedited            Set     M   \n",
      "1239       Amazon    Amazon.in        Expedited          kurta     S   \n",
      "1259     Merchant    Amazon.in         Standard          kurta     M   \n",
      "1283       Amazon    Amazon.in        Expedited          kurta   3XL   \n",
      "1293       Amazon    Amazon.in        Expedited            Set     M   \n",
      "1358       Amazon    Amazon.in        Expedited            Set     L   \n",
      "1394     Merchant    Amazon.in         Standard            Set    XL   \n",
      "1504       Amazon    Amazon.in        Expedited          kurta     M   \n",
      "...           ...          ...              ...            ...   ...   \n",
      "128771   Merchant    Amazon.in         Standard            Set    XS   \n",
      "128778   Merchant    Amazon.in         Standard            Set     M   \n",
      "128783     Amazon    Amazon.in        Expedited          kurta    XL   \n",
      "128796     Amazon    Amazon.in        Expedited            Set     L   \n",
      "128804   Merchant    Amazon.in         Standard            Set    XL   \n",
      "128807   Merchant    Amazon.in         Standard          kurta   3XL   \n",
      "128808   Merchant    Amazon.in         Standard          kurta     S   \n",
      "128809   Merchant    Amazon.in         Standard  Western Dress    XL   \n",
      "128810   Merchant    Amazon.in         Standard            Set   XXL   \n",
      "128812     Amazon    Amazon.in        Expedited            Set     L   \n",
      "128823     Amazon    Amazon.in        Expedited            Set     L   \n",
      "128826     Amazon    Amazon.in        Expedited          kurta   XXL   \n",
      "128832   Merchant    Amazon.in         Standard  Western Dress     S   \n",
      "128846     Amazon    Amazon.in        Expedited            Set     M   \n",
      "128848     Amazon    Amazon.in        Expedited          kurta     L   \n",
      "128855   Merchant    Amazon.in         Standard          kurta     M   \n",
      "128864   Merchant    Amazon.in         Standard  Western Dress   XXL   \n",
      "128865   Merchant    Amazon.in         Standard  Western Dress   XXL   \n",
      "128875   Merchant    Amazon.in         Standard  Western Dress    XL   \n",
      "128876     Amazon    Amazon.in        Expedited            Set     M   \n",
      "128885     Amazon    Amazon.in        Expedited          kurta     M   \n",
      "128887   Merchant    Amazon.in         Standard            Top     M   \n",
      "128890   Merchant    Amazon.in         Standard         Blouse  Free   \n",
      "128902     Amazon    Amazon.in        Expedited  Western Dress     L   \n",
      "128903     Amazon    Amazon.in        Expedited          kurta     M   \n",
      "128910     Amazon    Amazon.in        Expedited          kurta   XXL   \n",
      "128932     Amazon    Amazon.in        Expedited          kurta     S   \n",
      "128945     Amazon    Amazon.in        Expedited          kurta     S   \n",
      "128958     Amazon    Amazon.in        Expedited            Set     L   \n",
      "128967     Amazon    Amazon.in        Expedited          kurta    XS   \n",
      "\n",
      "          amount       shipstate    b2b  rejected  \n",
      "330     6.165418  MADHYA PRADESH  False         1  \n",
      "331     6.484635       KARNATAKA  False         1  \n",
      "344     6.484635       KARNATAKA  False         1  \n",
      "383     5.991465       TELANGANA  False         0  \n",
      "495     6.335054     MAHARASHTRA  False         0  \n",
      "509     6.501493     MAHARASHTRA  False         1  \n",
      "521     6.501493         Gujarat  False         1  \n",
      "602     6.501493       TELANGANA  False         1  \n",
      "675     6.501493         HARYANA  False         1  \n",
      "711     6.501493       KARNATAKA  False         1  \n",
      "738     5.991465       TELANGANA  False         0  \n",
      "834     6.501493          Orissa  False         1  \n",
      "938     6.492316     MAHARASHTRA  False         1  \n",
      "960     6.501493     MAHARASHTRA  False         1  \n",
      "1012    6.501493     MAHARASHTRA  False         1  \n",
      "1018    6.501493     MAHARASHTRA  False         1  \n",
      "1034    6.501493      TAMIL NADU  False         1  \n",
      "1050    6.501493     MAHARASHTRA  False         1  \n",
      "1108    5.991465   UTTAR PRADESH  False         0  \n",
      "1110    6.501493     MAHARASHTRA  False         0  \n",
      "1117    6.501493     MAHARASHTRA  False         1  \n",
      "1175    6.501493     MAHARASHTRA  False         1  \n",
      "1234    6.501493       TELANGANA  False         1  \n",
      "1239    6.501493          KERALA  False         1  \n",
      "1259    6.501493       KARNATAKA  False         0  \n",
      "1283    6.501493     MAHARASHTRA  False         1  \n",
      "1293    6.440947       KARNATAKA  False         1  \n",
      "1358    6.501493       TELANGANA  False         1  \n",
      "1394    6.440947     MAHARASHTRA  False         0  \n",
      "1504    6.501493       TELANGANA  False         1  \n",
      "...          ...             ...    ...       ...  \n",
      "128771  6.907755           Delhi  False         0  \n",
      "128778  6.501493     UTTARAKHAND  False         0  \n",
      "128783  6.501493      TAMIL NADU  False         1  \n",
      "128796  6.501493      TAMIL NADU  False         1  \n",
      "128804  6.501493          KERALA  False         0  \n",
      "128807  6.190315      TAMIL NADU  False         0  \n",
      "128808  6.501493       KARNATAKA  False         1  \n",
      "128809  6.601230       KARNATAKA  False         0  \n",
      "128810  6.502790       TELANGANA  False         0  \n",
      "128812  6.501493      TAMIL NADU  False         1  \n",
      "128823  6.501493      TAMIL NADU  False         1  \n",
      "128826  5.680173       TELANGANA  False         1  \n",
      "128832  6.786717       TELANGANA  False         0  \n",
      "128846  6.501493       TELANGANA  False         1  \n",
      "128848  5.942799     MAHARASHTRA  False         1  \n",
      "128855  6.501493          KERALA  False         1  \n",
      "128864  6.674561          KERALA  False         0  \n",
      "128865  6.439350     MAHARASHTRA  False         0  \n",
      "128875  6.600265   UTTAR PRADESH  False         1  \n",
      "128876  6.896694   UTTAR PRADESH  False         1  \n",
      "128885  6.501493           BIHAR  False         1  \n",
      "128887  6.251904   UTTAR PRADESH  False         0  \n",
      "128890  5.989212      TAMIL NADU  False         1  \n",
      "128902  6.501493  ANDHRA PRADESH  False         1  \n",
      "128903  6.501493  ANDHRA PRADESH  False         1  \n",
      "128910  5.846439     MAHARASHTRA  False         1  \n",
      "128932  5.948035          KERALA  False         1  \n",
      "128945  6.070738       TELANGANA  False         1  \n",
      "128958  6.501493       KARNATAKA  False         1  \n",
      "128967  6.501493     WEST BENGAL  False         1  \n",
      "\n",
      "[20205 rows x 9 columns]\n"
     ]
    }
   ],
   "source": [
    "# Check for duplicates\n",
    "duplicate_rows = df.duplicated()\n",
    "print(\"Duplicate Rows:\")\n",
    "print(df[duplicate_rows])\n",
    "\n",
    "# Remove duplicates\n",
    "df = df.drop_duplicates()\n"
   ]
  },
  {
   "cell_type": "code",
   "execution_count": 50,
   "metadata": {},
   "outputs": [
    {
     "name": "stdout",
     "output_type": "stream",
     "text": [
      "Unique Values:\n",
      "['Set' 'kurta' 'Western Dress' 'Bottom' 'Top' 'Blouse' 'Ethnic Dress'\n",
      " 'Saree']\n"
     ]
    }
   ],
   "source": [
    "# Check unique values in categorical columns\n",
    "unique_values = df['category'].unique()\n",
    "print(\"Unique Values:\")\n",
    "print(unique_values)\n"
   ]
  },
  {
   "cell_type": "code",
   "execution_count": 52,
   "metadata": {},
   "outputs": [],
   "source": [
    "bk=df.copy()"
   ]
  },
  {
   "cell_type": "code",
   "execution_count": 53,
   "metadata": {},
   "outputs": [
    {
     "data": {
      "text/html": [
       "<div>\n",
       "<style scoped>\n",
       "    .dataframe tbody tr th:only-of-type {\n",
       "        vertical-align: middle;\n",
       "    }\n",
       "\n",
       "    .dataframe tbody tr th {\n",
       "        vertical-align: top;\n",
       "    }\n",
       "\n",
       "    .dataframe thead th {\n",
       "        text-align: right;\n",
       "    }\n",
       "</style>\n",
       "<table border=\"1\" class=\"dataframe\">\n",
       "  <thead>\n",
       "    <tr style=\"text-align: right;\">\n",
       "      <th></th>\n",
       "      <th>fulfilment</th>\n",
       "      <th>saleschannel</th>\n",
       "      <th>shipservicelevel</th>\n",
       "      <th>category</th>\n",
       "      <th>size</th>\n",
       "      <th>amount</th>\n",
       "      <th>shipstate</th>\n",
       "      <th>b2b</th>\n",
       "      <th>rejected</th>\n",
       "    </tr>\n",
       "  </thead>\n",
       "  <tbody>\n",
       "    <tr>\n",
       "      <th>0</th>\n",
       "      <td>1</td>\n",
       "      <td>0</td>\n",
       "      <td>1</td>\n",
       "      <td>4</td>\n",
       "      <td>7</td>\n",
       "      <td>6.474847</td>\n",
       "      <td>22</td>\n",
       "      <td>0</td>\n",
       "      <td>1</td>\n",
       "    </tr>\n",
       "    <tr>\n",
       "      <th>1</th>\n",
       "      <td>1</td>\n",
       "      <td>0</td>\n",
       "      <td>1</td>\n",
       "      <td>7</td>\n",
       "      <td>0</td>\n",
       "      <td>6.008813</td>\n",
       "      <td>17</td>\n",
       "      <td>0</td>\n",
       "      <td>0</td>\n",
       "    </tr>\n",
       "    <tr>\n",
       "      <th>3</th>\n",
       "      <td>1</td>\n",
       "      <td>0</td>\n",
       "      <td>1</td>\n",
       "      <td>6</td>\n",
       "      <td>5</td>\n",
       "      <td>6.625830</td>\n",
       "      <td>30</td>\n",
       "      <td>0</td>\n",
       "      <td>1</td>\n",
       "    </tr>\n",
       "    <tr>\n",
       "      <th>7</th>\n",
       "      <td>1</td>\n",
       "      <td>0</td>\n",
       "      <td>1</td>\n",
       "      <td>7</td>\n",
       "      <td>7</td>\n",
       "      <td>5.991465</td>\n",
       "      <td>35</td>\n",
       "      <td>0</td>\n",
       "      <td>0</td>\n",
       "    </tr>\n",
       "    <tr>\n",
       "      <th>8</th>\n",
       "      <td>0</td>\n",
       "      <td>0</td>\n",
       "      <td>0</td>\n",
       "      <td>4</td>\n",
       "      <td>0</td>\n",
       "      <td>6.501493</td>\n",
       "      <td>35</td>\n",
       "      <td>0</td>\n",
       "      <td>1</td>\n",
       "    </tr>\n",
       "  </tbody>\n",
       "</table>\n",
       "</div>"
      ],
      "text/plain": [
       "   fulfilment  saleschannel  shipservicelevel  category  size    amount  \\\n",
       "0           1             0                 1         4     7  6.474847   \n",
       "1           1             0                 1         7     0  6.008813   \n",
       "3           1             0                 1         6     5  6.625830   \n",
       "7           1             0                 1         7     7  5.991465   \n",
       "8           0             0                 0         4     0  6.501493   \n",
       "\n",
       "   shipstate  b2b  rejected  \n",
       "0         22    0         1  \n",
       "1         17    0         0  \n",
       "3         30    0         1  \n",
       "7         35    0         0  \n",
       "8         35    0         1  "
      ]
     },
     "execution_count": 53,
     "metadata": {},
     "output_type": "execute_result"
    }
   ],
   "source": [
    "#Apply the LabelEncoder\n",
    "from sklearn.preprocessing import LabelEncoder\n",
    "LE = LabelEncoder()\n",
    "df['shipstate']=LE.fit_transform(df[['shipstate']])\n",
    "df['category']=LE.fit_transform(df[['category']])\n",
    "df['size']=LE.fit_transform(df[['size']])\n",
    "df['b2b'] = LE.fit_transform(df[['b2b']])\n",
    "df['fulfilment'] = LE.fit_transform(df[['fulfilment']])\n",
    "df['shipservicelevel']=LE.fit_transform(df[['shipservicelevel']])\n",
    "df['saleschannel']=LE.fit_transform(df[['saleschannel']])\n",
    "df.head()"
   ]
  },
  {
   "cell_type": "code",
   "execution_count": 54,
   "metadata": {},
   "outputs": [],
   "source": [
    "df.drop(\"saleschannel\", axis = \"columns\", inplace = True)\n"
   ]
  },
  {
   "cell_type": "code",
   "execution_count": 55,
   "metadata": {},
   "outputs": [
    {
     "data": {
      "text/html": [
       "<div>\n",
       "<style scoped>\n",
       "    .dataframe tbody tr th:only-of-type {\n",
       "        vertical-align: middle;\n",
       "    }\n",
       "\n",
       "    .dataframe tbody tr th {\n",
       "        vertical-align: top;\n",
       "    }\n",
       "\n",
       "    .dataframe thead th {\n",
       "        text-align: right;\n",
       "    }\n",
       "</style>\n",
       "<table border=\"1\" class=\"dataframe\">\n",
       "  <thead>\n",
       "    <tr style=\"text-align: right;\">\n",
       "      <th></th>\n",
       "      <th>fulfilment</th>\n",
       "      <th>shipservicelevel</th>\n",
       "      <th>category</th>\n",
       "      <th>size</th>\n",
       "      <th>amount</th>\n",
       "      <th>shipstate</th>\n",
       "      <th>b2b</th>\n",
       "      <th>rejected</th>\n",
       "    </tr>\n",
       "  </thead>\n",
       "  <tbody>\n",
       "    <tr>\n",
       "      <th>0</th>\n",
       "      <td>1</td>\n",
       "      <td>1</td>\n",
       "      <td>4</td>\n",
       "      <td>7</td>\n",
       "      <td>6.474847</td>\n",
       "      <td>22</td>\n",
       "      <td>0</td>\n",
       "      <td>1</td>\n",
       "    </tr>\n",
       "    <tr>\n",
       "      <th>1</th>\n",
       "      <td>1</td>\n",
       "      <td>1</td>\n",
       "      <td>7</td>\n",
       "      <td>0</td>\n",
       "      <td>6.008813</td>\n",
       "      <td>17</td>\n",
       "      <td>0</td>\n",
       "      <td>0</td>\n",
       "    </tr>\n",
       "    <tr>\n",
       "      <th>3</th>\n",
       "      <td>1</td>\n",
       "      <td>1</td>\n",
       "      <td>6</td>\n",
       "      <td>5</td>\n",
       "      <td>6.625830</td>\n",
       "      <td>30</td>\n",
       "      <td>0</td>\n",
       "      <td>1</td>\n",
       "    </tr>\n",
       "    <tr>\n",
       "      <th>7</th>\n",
       "      <td>1</td>\n",
       "      <td>1</td>\n",
       "      <td>7</td>\n",
       "      <td>7</td>\n",
       "      <td>5.991465</td>\n",
       "      <td>35</td>\n",
       "      <td>0</td>\n",
       "      <td>0</td>\n",
       "    </tr>\n",
       "    <tr>\n",
       "      <th>8</th>\n",
       "      <td>0</td>\n",
       "      <td>0</td>\n",
       "      <td>4</td>\n",
       "      <td>0</td>\n",
       "      <td>6.501493</td>\n",
       "      <td>35</td>\n",
       "      <td>0</td>\n",
       "      <td>1</td>\n",
       "    </tr>\n",
       "  </tbody>\n",
       "</table>\n",
       "</div>"
      ],
      "text/plain": [
       "   fulfilment  shipservicelevel  category  size    amount  shipstate  b2b  \\\n",
       "0           1                 1         4     7  6.474847         22    0   \n",
       "1           1                 1         7     0  6.008813         17    0   \n",
       "3           1                 1         6     5  6.625830         30    0   \n",
       "7           1                 1         7     7  5.991465         35    0   \n",
       "8           0                 0         4     0  6.501493         35    0   \n",
       "\n",
       "   rejected  \n",
       "0         1  \n",
       "1         0  \n",
       "3         1  \n",
       "7         0  \n",
       "8         1  "
      ]
     },
     "execution_count": 55,
     "metadata": {},
     "output_type": "execute_result"
    }
   ],
   "source": [
    "df.head()"
   ]
  },
  {
   "cell_type": "code",
   "execution_count": 56,
   "metadata": {},
   "outputs": [],
   "source": [
    "df['amount']= df['amount'].astype(int)"
   ]
  },
  {
   "cell_type": "code",
   "execution_count": 57,
   "metadata": {},
   "outputs": [],
   "source": [
    "cat=df['category']\n",
    "cat1=bk['category']\n",
    "ful=df['fulfilment']\n",
    "ful1=bk['fulfilment']\n",
    "service=df['shipservicelevel']\n",
    "service1=bk['shipservicelevel']\n",
    "size=df['size']\n",
    "size1=bk['size']\n",
    "state=df['shipstate']\n",
    "state1=bk['shipstate']\n",
    "rej=df['rejected']\n",
    "rej1=bk['rejected']"
   ]
  },
  {
   "cell_type": "code",
   "execution_count": 58,
   "metadata": {},
   "outputs": [],
   "source": [
    "cat_mapping= dict(zip(cat, cat1))\n",
    "ful_mapping=dict(zip(ful, ful1))\n",
    "service_mapping=dict(zip(service, service1))\n",
    "size_mapping=dict(zip(size, size1))\n",
    "state_mapping=dict(zip(state, state1))\n",
    "rej_mapping=dict(zip(rej,rej1))\n",
    "\n",
    "# Print the mapping\n",
    "#print(\"Encoded Sizes:\", a)\n"
   ]
  },
  {
   "cell_type": "code",
   "execution_count": 59,
   "metadata": {},
   "outputs": [
    {
     "name": "stdout",
     "output_type": "stream",
     "text": [
      "{1: 1, 0: 0}\n"
     ]
    }
   ],
   "source": [
    "print(rej_mapping)"
   ]
  },
  {
   "cell_type": "code",
   "execution_count": 60,
   "metadata": {},
   "outputs": [],
   "source": [
    "cat_mapping = pd.DataFrame(list(cat_mapping.items()), columns=['Encoded Value', 'CATEGORIES'])\n",
    "ful_mapping= pd.DataFrame(list(ful_mapping.items()), columns=['Encoded Value', 'FULFILLMENT'])\n",
    "size_mapping= pd.DataFrame(list(size_mapping.items()), columns=['Encoded Value', 'SIZE'])\n",
    "state_mapping= pd.DataFrame(list(state_mapping.items()), columns=['Encoded Value', 'STATE'])\n",
    "cat_mapping = cat_mapping.sort_values(by='Encoded Value')\n",
    "ful_mapping = ful_mapping.sort_values(by='Encoded Value')\n",
    "size_mapping = size_mapping.sort_values(by='Encoded Value')\n",
    "state_mapping = state_mapping.sort_values(by='Encoded Value')\n"
   ]
  },
  {
   "cell_type": "code",
   "execution_count": 61,
   "metadata": {},
   "outputs": [],
   "source": [
    "import pickle\n",
    "with open('cat_mapping.pkl', 'wb') as file:\n",
    "    pickle.dump(cat_mapping, file)\n",
    "with open('ful_mapping.pkl', 'wb') as file:\n",
    "    pickle.dump(ful_mapping, file)\n",
    "with open('size_mapping.pkl', 'wb') as file:\n",
    "    pickle.dump(size_mapping, file)\n",
    "with open('state_mapping.pkl', 'wb') as file:\n",
    "    pickle.dump(state_mapping, file)\n",
    "    \n"
   ]
  },
  {
   "cell_type": "code",
   "execution_count": 62,
   "metadata": {},
   "outputs": [],
   "source": [
    "#Seperate the Independent Variable And Target Variable\n",
    "IndepVar = []\n",
    "for col in df.columns:\n",
    "    if col != 'rejected':\n",
    "        IndepVar.append(col)\n",
    "\n",
    "TargetVar = 'rejected'\n",
    "\n",
    "x = df[IndepVar]\n",
    "y = df[TargetVar]"
   ]
  },
  {
   "cell_type": "code",
   "execution_count": 63,
   "metadata": {},
   "outputs": [],
   "source": [
    "#Split the Data into x_train, x_test, y_train, y_test\n",
    "from sklearn.model_selection import train_test_split \n",
    "x_train, x_test, y_train, y_test = train_test_split(x, y,test_size=0.35\n",
    "                                               ,train_size=0.65,random_state=45)"
   ]
  },
  {
   "cell_type": "code",
   "execution_count": 64,
   "metadata": {},
   "outputs": [
    {
     "name": "stdout",
     "output_type": "stream",
     "text": [
      "Shape of X_train :(14816, 7)\n",
      "Shape of x_test: (7979, 7) \n",
      "Shape of y_train: (14816,)\n",
      "Shape of y_test: (7979,)\n"
     ]
    }
   ],
   "source": [
    "print(f\"Shape of X_train :{x_train.shape}\\nShape of x_test: {x_test.shape}\",\n",
    "      f\"\\nShape of y_train: {y_train.shape}\\nShape of y_test: {y_test.shape}\")"
   ]
  },
  {
   "cell_type": "code",
   "execution_count": 65,
   "metadata": {},
   "outputs": [],
   "source": [
    "from imblearn.over_sampling import RandomOverSampler"
   ]
  },
  {
   "cell_type": "code",
   "execution_count": 66,
   "metadata": {},
   "outputs": [
    {
     "name": "stdout",
     "output_type": "stream",
     "text": [
      "Shape of x_train_over :(17250, 7) \n",
      "Shape of y_train_over: (17250,)\n"
     ]
    }
   ],
   "source": [
    "# resample it (training dataset) using Random Over Sampling\n",
    "ros = RandomOverSampler(random_state = 42)\n",
    "x_train,y_train = ros.fit_resample(x_train,y_train)\n",
    "\n",
    "# print the shape of the training and testing datasets\n",
    "print(f\"Shape of x_train_over :{x_train.shape}\",\n",
    "      f\"\\nShape of y_train_over: {y_train.shape}\")\n"
   ]
  },
  {
   "cell_type": "code",
   "execution_count": 67,
   "metadata": {},
   "outputs": [],
   "source": [
    "#Apply the Standardization\n",
    "#from sklearn.preprocessing import StandardScaler\n",
    "#scalar=StandardScaler()\n",
    "#x_train = scalar.fit_transform(x_train)\n",
    "#x_test= scalar.transform(x_test)"
   ]
  },
  {
   "cell_type": "code",
   "execution_count": 68,
   "metadata": {},
   "outputs": [],
   "source": [
    "#Load the Files to Save the Results\n",
    "EMResults=pd.read_csv(r\"C:\\Users\\eswar.melam\\OneDrive - Qentelli\\Desktop\\Project\\EMResults.csv\")\n"
   ]
  },
  {
   "cell_type": "code",
   "execution_count": 69,
   "metadata": {},
   "outputs": [
    {
     "name": "stdout",
     "output_type": "stream",
     "text": [
      "Model Name:  LogisticRegression()\n",
      "Confusion matrix : \n",
      " [[1452 1900]\n",
      " [   0 4627]]\n",
      "Outcome values : \n",
      " 1452 1900 0 4627\n",
      "Classification report : \n",
      "               precision    recall  f1-score   support\n",
      "\n",
      "           1       1.00      0.43      0.60      3352\n",
      "           0       0.71      1.00      0.83      4627\n",
      "\n",
      "    accuracy                           0.76      7979\n",
      "   macro avg       0.85      0.72      0.72      7979\n",
      "weighted avg       0.83      0.76      0.74      7979\n",
      "\n",
      "Accuracy : 76.2 %\n",
      "Precision : 100.0 %\n",
      "Recall : 43.3 %\n",
      "F1 Score : 0.604\n",
      "Specificity or True Negative Rate : 100.0 %\n",
      "Balanced Accuracy : 71.6 %\n",
      "MCC : 0.554\n",
      "roc_auc_score: 0.717\n"
     ]
    },
    {
     "data": {
      "image/png": "[encoded data removed]",
      "text/plain": [
       "<Figure size 432x288 with 1 Axes>"
      ]
     },
     "metadata": {},
     "output_type": "display_data"
    },
    {
     "name": "stdout",
     "output_type": "stream",
     "text": [
      "-----------------------------------------------------------------------------------------------------\n",
      "Model Name:  DecisionTreeClassifier()\n",
      "Confusion matrix : \n",
      " [[1654 1698]\n",
      " [ 583 4044]]\n",
      "Outcome values : \n",
      " 1654 1698 583 4044\n",
      "Classification report : \n",
      "               precision    recall  f1-score   support\n",
      "\n",
      "           1       0.74      0.49      0.59      3352\n",
      "           0       0.70      0.87      0.78      4627\n",
      "\n",
      "    accuracy                           0.71      7979\n",
      "   macro avg       0.72      0.68      0.69      7979\n",
      "weighted avg       0.72      0.71      0.70      7979\n",
      "\n",
      "Accuracy : 71.4 %\n",
      "Precision : 73.9 %\n",
      "Recall : 49.3 %\n",
      "F1 Score : 0.592\n",
      "Specificity or True Negative Rate : 87.4 %\n",
      "Balanced Accuracy : 68.4 %\n",
      "MCC : 0.404\n",
      "roc_auc_score: 0.684\n"
     ]
    },
    {
     "data": {
      "image/png": "[encoded data removed]",
      "text/plain": [
       "<Figure size 432x288 with 1 Axes>"
      ]
     },
     "metadata": {},
     "output_type": "display_data"
    },
    {
     "name": "stdout",
     "output_type": "stream",
     "text": [
      "-----------------------------------------------------------------------------------------------------\n",
      "Model Name:  RandomForestClassifier()\n",
      "Confusion matrix : \n",
      " [[1681 1671]\n",
      " [ 620 4007]]\n",
      "Outcome values : \n",
      " 1681 1671 620 4007\n",
      "Classification report : \n",
      "               precision    recall  f1-score   support\n",
      "\n",
      "           1       0.73      0.50      0.59      3352\n",
      "           0       0.71      0.87      0.78      4627\n",
      "\n",
      "    accuracy                           0.71      7979\n",
      "   macro avg       0.72      0.68      0.69      7979\n",
      "weighted avg       0.72      0.71      0.70      7979\n",
      "\n",
      "Accuracy : 71.3 %\n",
      "Precision : 73.1 %\n",
      "Recall : 50.1 %\n",
      "F1 Score : 0.595\n",
      "Specificity or True Negative Rate : 86.6 %\n",
      "Balanced Accuracy : 68.4 %\n",
      "MCC : 0.4\n",
      "roc_auc_score: 0.684\n"
     ]
    },
    {
     "data": {
      "image/png": "[encoded data removed]",
      "text/plain": [
       "<Figure size 432x288 with 1 Axes>"
      ]
     },
     "metadata": {},
     "output_type": "display_data"
    },
    {
     "name": "stdout",
     "output_type": "stream",
     "text": [
      "-----------------------------------------------------------------------------------------------------\n",
      "Model Name:  ExtraTreesClassifier()\n",
      "Confusion matrix : \n",
      " [[1650 1702]\n",
      " [ 563 4064]]\n",
      "Outcome values : \n",
      " 1650 1702 563 4064\n",
      "Classification report : \n",
      "               precision    recall  f1-score   support\n",
      "\n",
      "           1       0.75      0.49      0.59      3352\n",
      "           0       0.70      0.88      0.78      4627\n",
      "\n",
      "    accuracy                           0.72      7979\n",
      "   macro avg       0.73      0.69      0.69      7979\n",
      "weighted avg       0.72      0.72      0.70      7979\n",
      "\n",
      "Accuracy : 71.6 %\n",
      "Precision : 74.6 %\n",
      "Recall : 49.2 %\n",
      "F1 Score : 0.593\n",
      "Specificity or True Negative Rate : 87.8 %\n",
      "Balanced Accuracy : 68.5 %\n",
      "MCC : 0.409\n",
      "roc_auc_score: 0.685\n"
     ]
    },
    {
     "data": {
      "image/png": "[encoded data removed]",
      "text/plain": [
       "<Figure size 432x288 with 1 Axes>"
      ]
     },
     "metadata": {},
     "output_type": "display_data"
    },
    {
     "name": "stdout",
     "output_type": "stream",
     "text": [
      "-----------------------------------------------------------------------------------------------------\n",
      "Model Name:  KNeighborsClassifier()\n",
      "Confusion matrix : \n",
      " [[1883 1469]\n",
      " [1086 3541]]\n",
      "Outcome values : \n",
      " 1883 1469 1086 3541\n",
      "Classification report : \n",
      "               precision    recall  f1-score   support\n",
      "\n",
      "           1       0.63      0.56      0.60      3352\n",
      "           0       0.71      0.77      0.73      4627\n",
      "\n",
      "    accuracy                           0.68      7979\n",
      "   macro avg       0.67      0.66      0.67      7979\n",
      "weighted avg       0.68      0.68      0.68      7979\n",
      "\n",
      "Accuracy : 68.0 %\n",
      "Precision : 63.4 %\n",
      "Recall : 56.2 %\n",
      "F1 Score : 0.596\n",
      "Specificity or True Negative Rate : 76.5 %\n",
      "Balanced Accuracy : 66.4 %\n",
      "MCC : 0.334\n",
      "roc_auc_score: 0.664\n"
     ]
    },
    {
     "data": {
      "image/png": "[encoded data removed]",
      "text/plain": [
       "<Figure size 432x288 with 1 Axes>"
      ]
     },
     "metadata": {},
     "output_type": "display_data"
    },
    {
     "name": "stdout",
     "output_type": "stream",
     "text": [
      "-----------------------------------------------------------------------------------------------------\n"
     ]
    }
   ],
   "source": [
    "# Build the Calssification models and compare the results\n",
    "\n",
    "from sklearn.linear_model import LogisticRegression\n",
    "from sklearn.tree import DecisionTreeClassifier\n",
    "from sklearn.ensemble import RandomForestClassifier\n",
    "from sklearn.ensemble import ExtraTreesClassifier\n",
    "from sklearn.neighbors import KNeighborsClassifier\n",
    "from sklearn.naive_bayes import GaussianNB\n",
    "#from sklearn.svm import SVC\n",
    "#from xgboost import XGBClassifier\n",
    "# import lightgbm as lgb\n",
    "\n",
    "# Create objects of classification algorithm with default hyper-parameters\n",
    "\n",
    "ModelLR = LogisticRegression()\n",
    "ModelDC = DecisionTreeClassifier()\n",
    "ModelRF = RandomForestClassifier()\n",
    "ModelET = ExtraTreesClassifier()\n",
    "ModelKNN = KNeighborsClassifier(n_neighbors=5)\n",
    "\n",
    "# Evalution matrix for all the algorithms\n",
    "\n",
    "#MM = [ModelLR, ModelDC, ModelRF, ModelET, ModelKNN, ModelGNB, ModelSVM, modelXGB, modelLGB]\n",
    "MM = [ModelLR, ModelDC, ModelRF, ModelET, ModelKNN]\n",
    "for models in MM:\n",
    "    \n",
    "    # Fit the model\n",
    "    \n",
    "    models.fit(x_train, y_train)\n",
    "    \n",
    "    # Prediction\n",
    "    \n",
    "    y_pred = models.predict(x_test)\n",
    "    y_pred_prob = models.predict_proba(x_test)\n",
    "    \n",
    "    # Print the model name\n",
    "    \n",
    "    print('Model Name: ', models)\n",
    "    \n",
    "    # confusion matrix in sklearn\n",
    "\n",
    "    from sklearn.metrics import confusion_matrix\n",
    "    from sklearn.metrics import classification_report\n",
    "\n",
    "    # actual values\n",
    "\n",
    "    actual = y_test\n",
    "\n",
    "    # predicted values\n",
    "\n",
    "    predicted = y_pred\n",
    "\n",
    "    # confusion matrix\n",
    "\n",
    "    matrix = confusion_matrix(actual,predicted, labels=[1,0],sample_weight=None)\n",
    "    print('Confusion matrix : \\n', matrix)\n",
    "\n",
    "    # outcome values order in sklearn\n",
    "\n",
    "    tp, fn, fp, tn = confusion_matrix(actual,predicted,labels=[1,0]).reshape(-1)\n",
    "    print('Outcome values : \\n', tp, fn, fp, tn)\n",
    "\n",
    "    # classification report for precision, recall f1-score and accuracy\n",
    "\n",
    "    C_Report = classification_report(actual,predicted,labels=[1,0])\n",
    "\n",
    "    print('Classification report : \\n', C_Report)\n",
    "\n",
    "    # calculating the metrics\n",
    "\n",
    "    sensitivity = round(tp/(tp+fn), 3);\n",
    "    specificity = round(tn/(tn+fp), 3);\n",
    "    accuracy = round((tp+tn)/(tp+fp+tn+fn), 3);\n",
    "    balanced_accuracy = round((sensitivity+specificity)/2, 3);\n",
    "    \n",
    "    precision = round(tp/(tp+fp), 3);\n",
    "    f1Score = round((2*tp/(2*tp + fp + fn)), 3);\n",
    "\n",
    "    # Matthews Correlation Coefficient (MCC). Range of values of MCC lie between -1 to +1. \n",
    "    # A model with a score of +1 is a perfect model and -1 is a poor model\n",
    "\n",
    "    from math import sqrt\n",
    "\n",
    "    mx = (tp+fp) * (tp+fn) * (tn+fp) * (tn+fn)\n",
    "    MCC = round(((tp * tn) - (fp * fn)) / sqrt(mx), 3)\n",
    "\n",
    "    print('Accuracy :', round(accuracy*100, 2),'%')\n",
    "    print('Precision :', round(precision*100, 2),'%')\n",
    "    print('Recall :', round(sensitivity*100,2), '%')\n",
    "    print('F1 Score :', f1Score)\n",
    "    print('Specificity or True Negative Rate :', round(specificity*100,2), '%'  )\n",
    "    print('Balanced Accuracy :', round(balanced_accuracy*100, 2),'%')\n",
    "    print('MCC :', MCC)\n",
    "\n",
    "    # Area under ROC curve \n",
    "\n",
    "    from sklearn.metrics import roc_curve, roc_auc_score\n",
    "\n",
    "    print('roc_auc_score:', round(roc_auc_score(actual, predicted), 3))\n",
    "    \n",
    "    # ROC Curve\n",
    "    \n",
    "    from sklearn.metrics import roc_auc_score\n",
    "    from sklearn.metrics import roc_curve\n",
    "    model_roc_auc = roc_auc_score(actual, predicted)\n",
    "    fpr, tpr, thresholds = roc_curve(actual, models.predict_proba(x_test)[:,1])\n",
    "    plt.figure()\n",
    "    # plt.plot(fpr, tpr, label='Logistic Regression (area = %0.2f)' % logit_roc_auc)\n",
    "    plt.plot(fpr, tpr, label= 'Classification Model' % model_roc_auc)\n",
    "    plt.plot([0, 1], [0, 1],'r--')\n",
    "    plt.xlim([0.0, 1.0])\n",
    "    plt.ylim([0.0, 1.05])\n",
    "    plt.xlabel('False Positive Rate')\n",
    "    plt.ylabel('True Positive Rate')\n",
    "    plt.title('Receiver operating characteristic')\n",
    "    plt.legend(loc=\"lower right\")\n",
    "    plt.savefig('Log_ROC')\n",
    "    plt.show()\n",
    "    print('-----------------------------------------------------------------------------------------------------')\n",
    "    new_row = {'Model Name' : models,\n",
    "               'True_Positive' : tp, \n",
    "               'False_Negative' : fn, \n",
    "               'False_Positive' : fp,\n",
    "               'True_Negative' : tn,\n",
    "               'Accuracy' : accuracy,\n",
    "               'Precision' : precision,\n",
    "               'Recall' : sensitivity,\n",
    "               'F1 Score' : f1Score,\n",
    "               'Specificity' : specificity,\n",
    "               'MCC':MCC,\n",
    "               'ROC_AUC_Score':roc_auc_score(actual, predicted),\n",
    "               'Balanced Accuracy':balanced_accuracy}\n",
    "    EMResults = EMResults.append(new_row, ignore_index=True)\n",
    "    #---\n",
    "   "
   ]
  },
  {
   "cell_type": "code",
   "execution_count": 70,
   "metadata": {},
   "outputs": [
    {
     "name": "stdout",
     "output_type": "stream",
     "text": [
      "Model Name:  LogisticRegression()\n",
      "Confusion matrix : \n",
      " [[1452 1900]\n",
      " [   0 4627]]\n",
      "Outcome values : \n",
      " 1452 1900 0 4627\n",
      "Classification report : \n",
      "               precision    recall  f1-score   support\n",
      "\n",
      "           1       1.00      0.43      0.60      3352\n",
      "           0       0.71      1.00      0.83      4627\n",
      "\n",
      "    accuracy                           0.76      7979\n",
      "   macro avg       0.85      0.72      0.72      7979\n",
      "weighted avg       0.83      0.76      0.74      7979\n",
      "\n",
      "Accuracy : 76.2 %\n",
      "Precision : 100.0 %\n",
      "Recall : 43.3 %\n",
      "F1 Score : 0.604\n",
      "Specificity or True Negative Rate : 100.0 %\n",
      "Balanced Accuracy : 71.6 %\n",
      "MCC : 0.554\n",
      "roc_auc_score: 0.717\n"
     ]
    },
    {
     "data": {
      "image/png": "[encoded data removed]",
      "text/plain": [
       "<Figure size 432x288 with 1 Axes>"
      ]
     },
     "metadata": {},
     "output_type": "display_data"
    },
    {
     "name": "stdout",
     "output_type": "stream",
     "text": [
      "-----------------------------------------------------------------------------------------------------\n"
     ]
    }
   ],
   "source": [
    "# Build the Calssification models and compare the results\n",
    "\n",
    "\n",
    "from sklearn.tree import DecisionTreeClassifier\n",
    "\n",
    "\n",
    "ModelLR = LogisticRegression()\n",
    "\n",
    "\n",
    "# Evalution matrix for all the algorithms\n",
    "MM = [ ModelLR]\n",
    "for models in MM:\n",
    "    \n",
    "    # Fit the model\n",
    "    \n",
    "    models.fit(x_train, y_train)\n",
    "    \n",
    "    # Prediction\n",
    "    \n",
    "    y_pred = models.predict(x_test)\n",
    "   # y_pred_train = models.predict(x_train)\n",
    "    y_pred_prob = models.predict_proba(x_test)\n",
    "    \n",
    "    # Print the model name\n",
    "    \n",
    "    print('Model Name: ', models)\n",
    "    \n",
    "    # confusion matrix in sklearn\n",
    "\n",
    "    from sklearn.metrics import confusion_matrix\n",
    "    from sklearn.metrics import classification_report\n",
    "\n",
    "    # actual values\n",
    "\n",
    "    actual = y_test\n",
    "\n",
    "    # predicted values\n",
    "\n",
    "    predicted = y_pred\n",
    "\n",
    "    # confusion matrix\n",
    "\n",
    "    matrix = confusion_matrix(actual,predicted, labels=[1,0],sample_weight=None)\n",
    "    print('Confusion matrix : \\n', matrix)\n",
    "\n",
    "    # outcome values order in sklearn\n",
    "\n",
    "    tp, fn, fp, tn = confusion_matrix(actual,predicted,labels=[1,0]).reshape(-1)\n",
    "    print('Outcome values : \\n', tp, fn, fp, tn)\n",
    "\n",
    "    # classification report for precision, recall f1-score and accuracy\n",
    "\n",
    "    C_Report = classification_report(actual,predicted,labels=[1,0])\n",
    "\n",
    "    print('Classification report : \\n', C_Report)\n",
    "\n",
    "    # calculating the metrics\n",
    "\n",
    "    sensitivity = round(tp/(tp+fn), 3);\n",
    "    specificity = round(tn/(tn+fp), 3);\n",
    "    accuracy = round((tp+tn)/(tp+fp+tn+fn), 3);\n",
    "    balanced_accuracy = round((sensitivity+specificity)/2, 3);\n",
    "    \n",
    "    precision = round(tp/(tp+fp), 3);\n",
    "    f1Score = round((2*tp/(2*tp + fp + fn)), 3);\n",
    "\n",
    "    # Matthews Correlation Coefficient (MCC). Range of values of MCC lie between -1 to +1. \n",
    "    # A model with a score of +1 is a perfect model and -1 is a poor model\n",
    "\n",
    "    from math import sqrt\n",
    "\n",
    "    mx = (tp+fp) * (tp+fn) * (tn+fp) * (tn+fn)\n",
    "    MCC = round(((tp * tn) - (fp * fn)) / sqrt(mx), 3)\n",
    "\n",
    "    print('Accuracy :', round(accuracy*100, 2),'%')\n",
    "    print('Precision :', round(precision*100, 2),'%')\n",
    "    print('Recall :', round(sensitivity*100,2), '%')\n",
    "    print('F1 Score :', f1Score)\n",
    "    print('Specificity or True Negative Rate :', round(specificity*100,2), '%'  )\n",
    "    print('Balanced Accuracy :', round(balanced_accuracy*100, 2),'%')\n",
    "    print('MCC :', MCC)\n",
    "\n",
    "    # Area under ROC curve \n",
    "\n",
    "    from sklearn.metrics import roc_curve, roc_auc_score\n",
    "\n",
    "    print('roc_auc_score:', round(roc_auc_score(actual, predicted), 3))\n",
    "    \n",
    "    # ROC Curve\n",
    "    \n",
    "    from sklearn.metrics import roc_auc_score\n",
    "    from sklearn.metrics import roc_curve\n",
    "    model_roc_auc = roc_auc_score(actual, predicted)\n",
    "    fpr, tpr, thresholds = roc_curve(actual, models.predict_proba(x_test)[:,1])\n",
    "    plt.figure()\n",
    "    # plt.plot(fpr, tpr, label='Logistic Regression (area = %0.2f)' % logit_roc_auc)\n",
    "    plt.plot(fpr, tpr, label= 'Classification Model' % model_roc_auc)\n",
    "    plt.plot([0, 1], [0, 1],'r--')\n",
    "    plt.xlim([0.0, 1.0])\n",
    "    plt.ylim([0.0, 1.05])\n",
    "    plt.xlabel('False Positive Rate')\n",
    "    plt.ylabel('True Positive Rate')\n",
    "    plt.title('Receiver operating characteristic')\n",
    "    plt.legend(loc=\"lower right\")\n",
    "    plt.savefig('Log_ROC')\n",
    "    plt.show()\n",
    "    print('-----------------------------------------------------------------------------------------------------')\n",
    "   \n",
    "   "
   ]
  },
  {
   "cell_type": "code",
   "execution_count": 71,
   "metadata": {
    "scrolled": true
   },
   "outputs": [
    {
     "data": {
      "text/html": [
       "<div>\n",
       "<style scoped>\n",
       "    .dataframe tbody tr th:only-of-type {\n",
       "        vertical-align: middle;\n",
       "    }\n",
       "\n",
       "    .dataframe tbody tr th {\n",
       "        vertical-align: top;\n",
       "    }\n",
       "\n",
       "    .dataframe thead th {\n",
       "        text-align: right;\n",
       "    }\n",
       "</style>\n",
       "<table border=\"1\" class=\"dataframe\">\n",
       "  <thead>\n",
       "    <tr style=\"text-align: right;\">\n",
       "      <th></th>\n",
       "      <th>Model Name</th>\n",
       "      <th>True_Positive</th>\n",
       "      <th>False_Negative</th>\n",
       "      <th>False_Positive</th>\n",
       "      <th>True_Negative</th>\n",
       "      <th>Accuracy</th>\n",
       "      <th>Precision</th>\n",
       "      <th>Recall</th>\n",
       "      <th>F1 Score</th>\n",
       "      <th>Specificity</th>\n",
       "      <th>MCC</th>\n",
       "      <th>ROC_AUC_Score</th>\n",
       "      <th>Balanced Accuracy</th>\n",
       "    </tr>\n",
       "  </thead>\n",
       "  <tbody>\n",
       "    <tr>\n",
       "      <th>0</th>\n",
       "      <td>LogisticRegression()</td>\n",
       "      <td>1452</td>\n",
       "      <td>1900</td>\n",
       "      <td>0</td>\n",
       "      <td>4627</td>\n",
       "      <td>0.762</td>\n",
       "      <td>1.000</td>\n",
       "      <td>0.433</td>\n",
       "      <td>0.604</td>\n",
       "      <td>1.000</td>\n",
       "      <td>0.554</td>\n",
       "      <td>0.716587</td>\n",
       "      <td>0.716</td>\n",
       "    </tr>\n",
       "    <tr>\n",
       "      <th>1</th>\n",
       "      <td>DecisionTreeClassifier()</td>\n",
       "      <td>1654</td>\n",
       "      <td>1698</td>\n",
       "      <td>583</td>\n",
       "      <td>4044</td>\n",
       "      <td>0.714</td>\n",
       "      <td>0.739</td>\n",
       "      <td>0.493</td>\n",
       "      <td>0.592</td>\n",
       "      <td>0.874</td>\n",
       "      <td>0.404</td>\n",
       "      <td>0.683719</td>\n",
       "      <td>0.684</td>\n",
       "    </tr>\n",
       "    <tr>\n",
       "      <th>2</th>\n",
       "      <td>(DecisionTreeClassifier(max_features='auto', r...</td>\n",
       "      <td>1681</td>\n",
       "      <td>1671</td>\n",
       "      <td>620</td>\n",
       "      <td>4007</td>\n",
       "      <td>0.713</td>\n",
       "      <td>0.731</td>\n",
       "      <td>0.501</td>\n",
       "      <td>0.595</td>\n",
       "      <td>0.866</td>\n",
       "      <td>0.400</td>\n",
       "      <td>0.683748</td>\n",
       "      <td>0.684</td>\n",
       "    </tr>\n",
       "    <tr>\n",
       "      <th>3</th>\n",
       "      <td>(ExtraTreeClassifier(random_state=1282121299),...</td>\n",
       "      <td>1650</td>\n",
       "      <td>1702</td>\n",
       "      <td>563</td>\n",
       "      <td>4064</td>\n",
       "      <td>0.716</td>\n",
       "      <td>0.746</td>\n",
       "      <td>0.492</td>\n",
       "      <td>0.593</td>\n",
       "      <td>0.878</td>\n",
       "      <td>0.409</td>\n",
       "      <td>0.685283</td>\n",
       "      <td>0.685</td>\n",
       "    </tr>\n",
       "    <tr>\n",
       "      <th>4</th>\n",
       "      <td>KNeighborsClassifier()</td>\n",
       "      <td>1883</td>\n",
       "      <td>1469</td>\n",
       "      <td>1086</td>\n",
       "      <td>3541</td>\n",
       "      <td>0.680</td>\n",
       "      <td>0.634</td>\n",
       "      <td>0.562</td>\n",
       "      <td>0.596</td>\n",
       "      <td>0.765</td>\n",
       "      <td>0.334</td>\n",
       "      <td>0.663522</td>\n",
       "      <td>0.664</td>\n",
       "    </tr>\n",
       "  </tbody>\n",
       "</table>\n",
       "</div>"
      ],
      "text/plain": [
       "                                          Model Name True_Positive  \\\n",
       "0                               LogisticRegression()          1452   \n",
       "1                           DecisionTreeClassifier()          1654   \n",
       "2  (DecisionTreeClassifier(max_features='auto', r...          1681   \n",
       "3  (ExtraTreeClassifier(random_state=1282121299),...          1650   \n",
       "4                             KNeighborsClassifier()          1883   \n",
       "\n",
       "  False_Negative False_Positive True_Negative  Accuracy  Precision  Recall  \\\n",
       "0           1900              0          4627     0.762      1.000   0.433   \n",
       "1           1698            583          4044     0.714      0.739   0.493   \n",
       "2           1671            620          4007     0.713      0.731   0.501   \n",
       "3           1702            563          4064     0.716      0.746   0.492   \n",
       "4           1469           1086          3541     0.680      0.634   0.562   \n",
       "\n",
       "   F1 Score  Specificity    MCC  ROC_AUC_Score  Balanced Accuracy  \n",
       "0     0.604        1.000  0.554       0.716587              0.716  \n",
       "1     0.592        0.874  0.404       0.683719              0.684  \n",
       "2     0.595        0.866  0.400       0.683748              0.684  \n",
       "3     0.593        0.878  0.409       0.685283              0.685  \n",
       "4     0.596        0.765  0.334       0.663522              0.664  "
      ]
     },
     "execution_count": 71,
     "metadata": {},
     "output_type": "execute_result"
    }
   ],
   "source": [
    "EMResults"
   ]
  },
  {
   "cell_type": "code",
   "execution_count": 72,
   "metadata": {},
   "outputs": [],
   "source": [
    "predresult=pd.DataFrame({'Product_status':y_test,'Product_status-Pred':y_pred})"
   ]
  },
  {
   "cell_type": "code",
   "execution_count": 73,
   "metadata": {},
   "outputs": [],
   "source": [
    "final=df.merge(predresult,left_index=True,right_index=True)"
   ]
  },
  {
   "cell_type": "code",
   "execution_count": 74,
   "metadata": {},
   "outputs": [
    {
     "data": {
      "text/html": [
       "<div>\n",
       "<style scoped>\n",
       "    .dataframe tbody tr th:only-of-type {\n",
       "        vertical-align: middle;\n",
       "    }\n",
       "\n",
       "    .dataframe tbody tr th {\n",
       "        vertical-align: top;\n",
       "    }\n",
       "\n",
       "    .dataframe thead th {\n",
       "        text-align: right;\n",
       "    }\n",
       "</style>\n",
       "<table border=\"1\" class=\"dataframe\">\n",
       "  <thead>\n",
       "    <tr style=\"text-align: right;\">\n",
       "      <th></th>\n",
       "      <th>fulfilment</th>\n",
       "      <th>shipservicelevel</th>\n",
       "      <th>category</th>\n",
       "      <th>size</th>\n",
       "      <th>amount</th>\n",
       "      <th>shipstate</th>\n",
       "      <th>b2b</th>\n",
       "      <th>rejected</th>\n",
       "      <th>Product_status</th>\n",
       "      <th>Product_status-Pred</th>\n",
       "    </tr>\n",
       "  </thead>\n",
       "  <tbody>\n",
       "    <tr>\n",
       "      <th>0</th>\n",
       "      <td>1</td>\n",
       "      <td>1</td>\n",
       "      <td>4</td>\n",
       "      <td>7</td>\n",
       "      <td>6</td>\n",
       "      <td>22</td>\n",
       "      <td>0</td>\n",
       "      <td>1</td>\n",
       "      <td>1</td>\n",
       "      <td>0</td>\n",
       "    </tr>\n",
       "    <tr>\n",
       "      <th>3</th>\n",
       "      <td>1</td>\n",
       "      <td>1</td>\n",
       "      <td>6</td>\n",
       "      <td>5</td>\n",
       "      <td>6</td>\n",
       "      <td>30</td>\n",
       "      <td>0</td>\n",
       "      <td>1</td>\n",
       "      <td>1</td>\n",
       "      <td>0</td>\n",
       "    </tr>\n",
       "    <tr>\n",
       "      <th>25</th>\n",
       "      <td>1</td>\n",
       "      <td>1</td>\n",
       "      <td>4</td>\n",
       "      <td>9</td>\n",
       "      <td>6</td>\n",
       "      <td>16</td>\n",
       "      <td>0</td>\n",
       "      <td>0</td>\n",
       "      <td>0</td>\n",
       "      <td>0</td>\n",
       "    </tr>\n",
       "    <tr>\n",
       "      <th>32</th>\n",
       "      <td>1</td>\n",
       "      <td>1</td>\n",
       "      <td>4</td>\n",
       "      <td>6</td>\n",
       "      <td>6</td>\n",
       "      <td>1</td>\n",
       "      <td>0</td>\n",
       "      <td>0</td>\n",
       "      <td>0</td>\n",
       "      <td>0</td>\n",
       "    </tr>\n",
       "    <tr>\n",
       "      <th>33</th>\n",
       "      <td>1</td>\n",
       "      <td>1</td>\n",
       "      <td>7</td>\n",
       "      <td>6</td>\n",
       "      <td>6</td>\n",
       "      <td>29</td>\n",
       "      <td>0</td>\n",
       "      <td>0</td>\n",
       "      <td>0</td>\n",
       "      <td>0</td>\n",
       "    </tr>\n",
       "  </tbody>\n",
       "</table>\n",
       "</div>"
      ],
      "text/plain": [
       "    fulfilment  shipservicelevel  category  size  amount  shipstate  b2b  \\\n",
       "0            1                 1         4     7       6         22    0   \n",
       "3            1                 1         6     5       6         30    0   \n",
       "25           1                 1         4     9       6         16    0   \n",
       "32           1                 1         4     6       6          1    0   \n",
       "33           1                 1         7     6       6         29    0   \n",
       "\n",
       "    rejected  Product_status  Product_status-Pred  \n",
       "0          1               1                    0  \n",
       "3          1               1                    0  \n",
       "25         0               0                    0  \n",
       "32         0               0                    0  \n",
       "33         0               0                    0  "
      ]
     },
     "execution_count": 74,
     "metadata": {},
     "output_type": "execute_result"
    }
   ],
   "source": [
    "final.head()"
   ]
  },
  {
   "cell_type": "code",
   "execution_count": 75,
   "metadata": {},
   "outputs": [
    {
     "name": "stdout",
     "output_type": "stream",
     "text": [
      "0    6527\n",
      "1    1452\n",
      "Name: Product_status-Pred, dtype: int64\n",
      "0    4627\n",
      "1    3352\n",
      "Name: Product_status, dtype: int64\n"
     ]
    }
   ],
   "source": [
    "prestatus_counts = final['Product_status-Pred'].value_counts()\n",
    "status_counts = final['Product_status'].value_counts()\n",
    "\n",
    "print(prestatus_counts)\n",
    "print(status_counts)"
   ]
  },
  {
   "cell_type": "code",
   "execution_count": 76,
   "metadata": {},
   "outputs": [],
   "source": [
    "f=bk.merge(pd.DataFrame({'Product_status-Pred':y_pred}),left_index=True,right_index=True)"
   ]
  },
  {
   "cell_type": "code",
   "execution_count": 77,
   "metadata": {},
   "outputs": [],
   "source": [
    "f['rejected'] = f['rejected'].map({1: 'rejected', 0: 'not rejected'})\n"
   ]
  },
  {
   "cell_type": "code",
   "execution_count": 78,
   "metadata": {},
   "outputs": [],
   "source": [
    "f['Product_status-Pred'] = f['Product_status-Pred'].map({1: 'rejected', 0: 'not rejected'})\n"
   ]
  },
  {
   "cell_type": "code",
   "execution_count": 79,
   "metadata": {},
   "outputs": [
    {
     "data": {
      "text/html": [
       "<div>\n",
       "<style scoped>\n",
       "    .dataframe tbody tr th:only-of-type {\n",
       "        vertical-align: middle;\n",
       "    }\n",
       "\n",
       "    .dataframe tbody tr th {\n",
       "        vertical-align: top;\n",
       "    }\n",
       "\n",
       "    .dataframe thead th {\n",
       "        text-align: right;\n",
       "    }\n",
       "</style>\n",
       "<table border=\"1\" class=\"dataframe\">\n",
       "  <thead>\n",
       "    <tr style=\"text-align: right;\">\n",
       "      <th></th>\n",
       "      <th>fulfilment</th>\n",
       "      <th>saleschannel</th>\n",
       "      <th>shipservicelevel</th>\n",
       "      <th>category</th>\n",
       "      <th>size</th>\n",
       "      <th>amount</th>\n",
       "      <th>shipstate</th>\n",
       "      <th>b2b</th>\n",
       "      <th>rejected</th>\n",
       "      <th>Product_status-Pred</th>\n",
       "    </tr>\n",
       "  </thead>\n",
       "  <tbody>\n",
       "    <tr>\n",
       "      <th>0</th>\n",
       "      <td>Merchant</td>\n",
       "      <td>Amazon.in</td>\n",
       "      <td>Standard</td>\n",
       "      <td>Set</td>\n",
       "      <td>S</td>\n",
       "      <td>6.474847</td>\n",
       "      <td>MAHARASHTRA</td>\n",
       "      <td>False</td>\n",
       "      <td>rejected</td>\n",
       "      <td>not rejected</td>\n",
       "    </tr>\n",
       "    <tr>\n",
       "      <th>1</th>\n",
       "      <td>Merchant</td>\n",
       "      <td>Amazon.in</td>\n",
       "      <td>Standard</td>\n",
       "      <td>kurta</td>\n",
       "      <td>3XL</td>\n",
       "      <td>6.008813</td>\n",
       "      <td>KARNATAKA</td>\n",
       "      <td>False</td>\n",
       "      <td>not rejected</td>\n",
       "      <td>rejected</td>\n",
       "    </tr>\n",
       "  </tbody>\n",
       "</table>\n",
       "</div>"
      ],
      "text/plain": [
       "  fulfilment saleschannel shipservicelevel category size    amount  \\\n",
       "0   Merchant    Amazon.in         Standard      Set    S  6.474847   \n",
       "1   Merchant    Amazon.in         Standard    kurta  3XL  6.008813   \n",
       "\n",
       "     shipstate    b2b      rejected Product_status-Pred  \n",
       "0  MAHARASHTRA  False      rejected        not rejected  \n",
       "1    KARNATAKA  False  not rejected            rejected  "
      ]
     },
     "execution_count": 79,
     "metadata": {},
     "output_type": "execute_result"
    }
   ],
   "source": [
    "f.head(2)"
   ]
  },
  {
   "cell_type": "code",
   "execution_count": 80,
   "metadata": {},
   "outputs": [],
   "source": [
    "f.to_csv(r'C:\\Users\\eswar.melam\\OneDrive - Qentelli\\Desktop\\Project\\final1.csv',index=False)"
   ]
  },
  {
   "cell_type": "code",
   "execution_count": 81,
   "metadata": {},
   "outputs": [
    {
     "data": {
      "text/plain": [
       "Index(['fulfilment', 'saleschannel', 'shipservicelevel', 'category', 'size',\n",
       "       'amount', 'shipstate', 'b2b', 'rejected', 'Product_status-Pred'],\n",
       "      dtype='object')"
      ]
     },
     "execution_count": 81,
     "metadata": {},
     "output_type": "execute_result"
    }
   ],
   "source": [
    "f.columns"
   ]
  },
  {
   "cell_type": "code",
   "execution_count": 82,
   "metadata": {},
   "outputs": [
    {
     "data": {
      "text/plain": [
       "['log.joblib']"
      ]
     },
     "execution_count": 82,
     "metadata": {},
     "output_type": "execute_result"
    }
   ],
   "source": [
    "import joblib\n",
    "\n",
    "joblib.dump(models, 'log.joblib')  # Replace with your desired file name\n"
   ]
  },
  {
   "cell_type": "code",
   "execution_count": 83,
   "metadata": {},
   "outputs": [
    {
     "name": "stdout",
     "output_type": "stream",
     "text": [
      "Accuracy: 0.7618749216693821\n"
     ]
    }
   ],
   "source": [
    "from sklearn.metrics import accuracy_score\n",
    "\n",
    "# Assuming y_true contains the actual labels and y_pred contains the predicted labels\n",
    "accuracy = accuracy_score(y_test, y_pred)\n",
    "print(f'Accuracy: {accuracy}')\n"
   ]
  },
  {
   "cell_type": "code",
   "execution_count": 84,
   "metadata": {},
   "outputs": [
    {
     "name": "stdout",
     "output_type": "stream",
     "text": [
      "Confusion Matrix:\n",
      "[[4627    0]\n",
      " [1900 1452]]\n"
     ]
    },
    {
     "data": {
      "image/png": "[encoded data removed]",
      "text/plain": [
       "<Figure size 432x288 with 1 Axes>"
      ]
     },
     "metadata": {},
     "output_type": "display_data"
    }
   ],
   "source": [
    "from sklearn.metrics import confusion_matrix\n",
    "\n",
    "conf_matrix = confusion_matrix(y_test, y_pred)\n",
    "print('Confusion Matrix:')\n",
    "print(conf_matrix)\n",
    "sns.heatmap(conf_matrix, annot=True,fmt=\"d\", cbar=False)\n",
    "plt.xlabel(\"Predicted\")\n",
    "plt.ylabel(\"Actual\")\n",
    "plt.title(\"Confusion Matrix\")\n",
    "plt.show()"
   ]
  }
 ],
 "metadata": {
  "kernelspec": {
   "display_name": "Python 3",
   "language": "python",
   "name": "python3"
  },
  "language_info": {
   "codemirror_mode": {
    "name": "ipython",
    "version": 3
   },
   "file_extension": ".py",
   "mimetype": "text/x-python",
   "name": "python",
   "nbconvert_exporter": "python",
   "pygments_lexer": "ipython3",
   "version": "3.6.5"
  }
 },
 "nbformat": 4,
 "nbformat_minor": 2
}
